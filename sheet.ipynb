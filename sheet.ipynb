{
 "cells": [
  {
   "attachments": {},
   "cell_type": "markdown",
   "metadata": {},
   "source": [
    "# Day one "
   ]
  },
  {
   "attachments": {},
   "cell_type": "markdown",
   "metadata": {},
   "source": [
    "##### WAP to check whether the number is even or odd using bitmanipulation"
   ]
  },
  {
   "cell_type": "code",
   "execution_count": 4,
   "metadata": {},
   "outputs": [
    {
     "name": "stdout",
     "output_type": "stream",
     "text": [
      "True given number is even\n"
     ]
    }
   ],
   "source": [
    "no = int(input(\"enter the number\"))\n",
    "c = no & 1 == 0\n",
    "print( c, \"given number is even\" )"
   ]
  },
  {
   "attachments": {},
   "cell_type": "markdown",
   "metadata": {},
   "source": [
    "##### WAP to take marks , rollno. , name and print all these as colon separated value"
   ]
  },
  {
   "cell_type": "code",
   "execution_count": 7,
   "metadata": {},
   "outputs": [
    {
     "name": "stdout",
     "output_type": "stream",
     "text": [
      "10:2021:100\n"
     ]
    }
   ],
   "source": [
    "name= input(\"Enter the Name\")\n",
    "roll_no= input(\"enter the roll number\")\n",
    "marks= input(\"Enter the marks\")\n",
    "\n",
    "display = name+\":\"+roll_no+\":\"+marks\n",
    "\n",
    "print(display)\n"
   ]
  },
  {
   "attachments": {},
   "cell_type": "markdown",
   "metadata": {},
   "source": [
    "##### WAP to display \"Hello\" if a number entered by user is a multiple of five, otherwise print \"Bye\"."
   ]
  },
  {
   "cell_type": "code",
   "execution_count": 8,
   "metadata": {},
   "outputs": [
    {
     "name": "stdout",
     "output_type": "stream",
     "text": [
      "hello\n"
     ]
    }
   ],
   "source": [
    "n = int(input(\"Enter the number\"))\n",
    "if (n%5==0):\n",
    "    print(\"hello\") \n",
    "else:\n",
    "    print(\"bye\")"
   ]
  },
  {
   "attachments": {},
   "cell_type": "markdown",
   "metadata": {},
   "source": [
    "##### WAP to print name branch age in 3 new lines using single print statement"
   ]
  },
  {
   "cell_type": "code",
   "execution_count": 9,
   "metadata": {},
   "outputs": [
    {
     "name": "stdout",
     "output_type": "stream",
     "text": [
      "sahil sharma \n",
      " cse \n",
      " 2021a1l011\n",
      "sahil sharma27cse"
     ]
    }
   ],
   "source": [
    "\n",
    "print(\"sahil sharma \\n cse \\n 2021a1l011\")\n",
    "name=\"sahil sharma\"\n",
    "branch = \"cse\"\n",
    "age = 27\n",
    "print(name,age,branch,sep=\" \" ,end=\"\")"
   ]
  },
  {
   "attachments": {},
   "cell_type": "markdown",
   "metadata": {},
   "source": [
    "##### WAP to take input of roll number and name. Print both in different lines using parameter end."
   ]
  },
  {
   "cell_type": "code",
   "execution_count": 10,
   "metadata": {},
   "outputs": [
    {
     "name": "stdout",
     "output_type": "stream",
     "text": [
      "sahil'\n",
      "'{roll}"
     ]
    }
   ],
   "source": [
    "name = input(\"enter name : \")\n",
    "roll = int(input(\"enter roll number: \"))\n",
    "\n",
    "print (name, end=\"'\\n'{roll}\")"
   ]
  },
  {
   "attachments": {},
   "cell_type": "markdown",
   "metadata": {},
   "source": [
    "##### WAP if number is even print 1 otherwise print 0"
   ]
  },
  {
   "cell_type": "code",
   "execution_count": 11,
   "metadata": {},
   "outputs": [
    {
     "name": "stdout",
     "output_type": "stream",
     "text": [
      "0\n"
     ]
    }
   ],
   "source": [
    "n = int(input(\"Enter number: \"))\n",
    "print(n%2)"
   ]
  },
  {
   "attachments": {},
   "cell_type": "markdown",
   "metadata": {},
   "source": [
    "\n",
    "## DAY 2"
   ]
  },
  {
   "attachments": {},
   "cell_type": "markdown",
   "metadata": {},
   "source": [
    "##### Program 1\n",
    "WAP to Print desired outcomes by desired age groups."
   ]
  },
  {
   "cell_type": "code",
   "execution_count": 12,
   "metadata": {},
   "outputs": [
    {
     "name": "stdout",
     "output_type": "stream",
     "text": [
      "congrats you are major and  eligible for marriage\n"
     ]
    }
   ],
   "source": [
    "age = int(input(\"enter the age\"))\n",
    "if(age<18):\n",
    "    print(\"Sorry, you are still minor\")\n",
    "elif(age>=18) and (age<=21):\n",
    "    print(\"congrats you are major but not eligible for marriage\")\n",
    "else:\n",
    "    print(\"congrats you are major and  eligible for marriage\")\n",
    "    "
   ]
  },
  {
   "attachments": {},
   "cell_type": "markdown",
   "metadata": {},
   "source": [
    "##### Program 2\n",
    "WAP to print Greeting messages acording to time of day."
   ]
  },
  {
   "cell_type": "code",
   "execution_count": 14,
   "metadata": {},
   "outputs": [
    {
     "name": "stdout",
     "output_type": "stream",
     "text": [
      "Good afternoon\n"
     ]
    }
   ],
   "source": [
    "current_time =int(input())\n",
    "\n",
    "if current_time < 1200:\n",
    "    print(\"Good morning\")\n",
    "elif current_time >= 1200 and current_time < 1800:\n",
    "    print(\"Good afternoon\")\n",
    "else:\n",
    "    print(\"Good night\")"
   ]
  },
  {
   "attachments": {},
   "cell_type": "markdown",
   "metadata": {},
   "source": [
    "##### Program 3 \n",
    "WAP to display electric charges according to units used."
   ]
  },
  {
   "cell_type": "code",
   "execution_count": 15,
   "metadata": {},
   "outputs": [
    {
     "name": "stdout",
     "output_type": "stream",
     "text": [
      "charges are  6440\n"
     ]
    }
   ],
   "source": [
    "base=40\n",
    "unit=int(input(\"Enter unit: \"))\n",
    "price=0\n",
    "p100=0\n",
    "if unit<=100:\n",
    "    print(\"Charges are \",base)\n",
    "elif  unit >=101 and unit <=200:\n",
    "    p100 =p100 +( 6 *(unit - 100)  + base)\n",
    "    print(\"charges are \" ,p100)\n",
    "elif unit>200:\n",
    "    price = (8*(unit - 200) )+p100 + base \n",
    "    print(\"charges are \",price)\n",
    "    "
   ]
  },
  {
   "attachments": {},
   "cell_type": "markdown",
   "metadata": {},
   "source": [
    "##### Program  4\n",
    "WAP to get hte sum of 3 numbers , if the numbers are same then take the product of those numbers."
   ]
  },
  {
   "cell_type": "code",
   "execution_count": 16,
   "metadata": {},
   "outputs": [
    {
     "name": "stdout",
     "output_type": "stream",
     "text": [
      "1000\n"
     ]
    }
   ],
   "source": [
    "n = list(map( int, input(\"enter the three number\").split()))\n",
    "if (n[0]==n[1]==n[2]):\n",
    "    print(n[0]**3)\n",
    "else:\n",
    "    print(n[0]+n[1]+n[2])"
   ]
  },
  {
   "attachments": {},
   "cell_type": "markdown",
   "metadata": {},
   "source": [
    "##### Program 5\n",
    "WAP to find if m is factor of n."
   ]
  },
  {
   "attachments": {},
   "cell_type": "markdown",
   "metadata": {},
   "source": [
    "##### Program 5"
   ]
  },
  {
   "cell_type": "code",
   "execution_count": 17,
   "metadata": {},
   "outputs": [
    {
     "name": "stdout",
     "output_type": "stream",
     "text": [
      "m is not factor of n\n"
     ]
    }
   ],
   "source": [
    "m = int(input(\"enter the value of m: \"))\n",
    "n= int(input(\"enter the value of n: \"))\n",
    "if (m%n==0):\n",
    "    print(\"m is factor of n\")\n",
    "else:\n",
    "    print(\"m is not factor of n\")"
   ]
  },
  {
   "attachments": {},
   "cell_type": "markdown",
   "metadata": {},
   "source": [
    "##### Program 6\n",
    "WAP to grade marks based on percentage."
   ]
  },
  {
   "cell_type": "code",
   "execution_count": 18,
   "metadata": {},
   "outputs": [
    {
     "name": "stdout",
     "output_type": "stream",
     "text": [
      "Your grade is:  A \n",
      " Congratulations\n"
     ]
    }
   ],
   "source": [
    "score = int(input(\"Enter the Score: \"))\n",
    "grade=['A','B','C','D']\n",
    "if (score>=90):\n",
    "    print(\"Your grade is: \", grade[0], '\\n Congratulations')\n",
    "elif(score<=89) and (score>=75):\n",
    "    print(\"Your grade is: \", grade[1],'\\n Congratulations')\n",
    "elif(score<=74) and (score>=60):\n",
    "    print(\"Your grade is: \", grade[2],'\\n work hard')\n",
    "elif(score<60):\n",
    "    print(\"Your grade is: \", grade[3], '\\n Try next time')\n",
    "else:\n",
    "    print(\"enter right value\")\n",
    " "
   ]
  },
  {
   "attachments": {},
   "cell_type": "markdown",
   "metadata": {},
   "source": [
    "##### Program 7\n",
    "WAP to shift integers to right"
   ]
  },
  {
   "cell_type": "code",
   "execution_count": null,
   "metadata": {},
   "outputs": [],
   "source": [
    "a='1234567'\n",
    "a=int(str(a[:-1]))\n",
    "print(a)\n"
   ]
  },
  {
   "attachments": {},
   "cell_type": "markdown",
   "metadata": {},
   "source": [
    "### After Break\n",
    "##### Program 1\n",
    "WAP to take the input of 5 subject marks and calculate the percentage and also print the pass and fail"
   ]
  },
  {
   "cell_type": "code",
   "execution_count": null,
   "metadata": {},
   "outputs": [],
   "source": [
    "sub=list(map(int,input(\"Enter marks for subject 1 to 5 seperated by space.\").split()))\n",
    "per=(sub[0]+sub[1]+sub[2]+sub[3]+sub[4])/5\n",
    "\n",
    "for i in sub:\n",
    "    if i >33:\n",
    "        if per>40 and per<64:\n",
    "          print(\"passed with grade D\")\n",
    "        elif per>65 and per <74:\n",
    "            print(\"passed with grade C\")\n",
    "        elif per>75 and per <89:\n",
    "            print(\"passed with grade B\")    \n",
    "        elif per>90 :\n",
    "            print(\"passed with grade A\")    \n",
    "    else:\n",
    "        print(\"failed in\",i)"
   ]
  },
  {
   "attachments": {},
   "cell_type": "markdown",
   "metadata": {},
   "source": [
    "##### Program 2\n",
    "WAP to calculate discount given by merchant for the following input\n"
   ]
  },
  {
   "cell_type": "code",
   "execution_count": null,
   "metadata": {},
   "outputs": [],
   "source": [
    "purchase=int(input(\"Enter the Amount: \"))\n",
    "item=input(\"Enter the item to be purchased: \")\n",
    "if (item =='clothes'):\n",
    "    if (purchase<1000):\n",
    "        print(purchase,\"No discount\")\n",
    "    elif(purchase>1000) and (purchase<5000):\n",
    "        discount= (purchase*5)/100\n",
    "        print(\"Discount is\", discount)\n",
    "    else:\n",
    "        discount= (purchase*10)/100\n",
    "        print(\"Discount given is\", discount)\n",
    "if (item =='electronics'):\n",
    "    if (purchase<=10000):\n",
    "        print(purchase,\"No discount\")\n",
    "    elif(purchase>10000) and (purchase<20000):\n",
    "        discount= (purchase*20)/100\n",
    "        print(\"Discount is\", discount)\n",
    "    else:\n",
    "        discount= (purchase*50)/100\n",
    "        print(\"Discount given is\", discount)"
   ]
  },
  {
   "attachments": {},
   "cell_type": "markdown",
   "metadata": {},
   "source": [
    "##### Program 3\n",
    "WAP to print the digits of a number one by one."
   ]
  },
  {
   "cell_type": "code",
   "execution_count": null,
   "metadata": {},
   "outputs": [],
   "source": [
    "n= int(input(\"Enter a number\"))\n",
    "number=0\n",
    "while n:\n",
    "    rem=n%10\n",
    "    number=number*10+rem  \n",
    "    n//=10\n",
    "while number:\n",
    "    rem=n%10\n",
    "    number=number*10+rem  \n",
    "    n//=10 \n",
    "print (number)"
   ]
  },
  {
   "attachments": {},
   "cell_type": "markdown",
   "metadata": {},
   "source": [
    "##### Program 4\n",
    "WAP to check a number is palendrome or not."
   ]
  },
  {
   "cell_type": "code",
   "execution_count": null,
   "metadata": {},
   "outputs": [],
   "source": [
    "n= int(input(\"Enter a number\"))\n",
    "reverse=0\n",
    "number=0\n",
    "while n:\n",
    "    rem=n%10\n",
    "    number=number*10+rem  \n",
    "    n//=10\n",
    "    \n",
    "print (number)\n",
    "\n",
    "if n==number:\n",
    "    print(\"number is palindrome\")\n",
    "else :\n",
    "    print(\"number not palindrome\")"
   ]
  },
  {
   "attachments": {},
   "cell_type": "markdown",
   "metadata": {},
   "source": [
    "##### Program 5\n",
    "WAP to check if number is armstrong or not."
   ]
  },
  {
   "cell_type": "code",
   "execution_count": null,
   "metadata": {},
   "outputs": [],
   "source": [
    "n=int(input(\"Enter a number: \"))\n",
    "\n",
    "sum=0\n",
    "temp=n\n",
    "c=0\n",
    "while n:\n",
    "    n//=10\n",
    "    c+=1\n",
    "while temp:\n",
    "    rem=temp%10\n",
    "    sum+= rem**c\n",
    "    temp//=10\n",
    "if n == sum:\n",
    "    print(\"number is armstrong\")\n",
    "else:\n",
    "    print(\"not armstrong\")"
   ]
  },
  {
   "attachments": {},
   "cell_type": "markdown",
   "metadata": {},
   "source": [
    "##### Program 6\n",
    "WAP to print all prime number upto range n."
   ]
  },
  {
   "cell_type": "code",
   "execution_count": null,
   "metadata": {},
   "outputs": [],
   "source": [
    "n=int(input())\n",
    "\n",
    "for i in range(2,n,1):\n",
    "    c=0\n",
    "    if i>2:\n",
    "        for j in range (2,i//2):\n",
    "            if i%j==0:\n",
    "                c+=1\n",
    "                break\n",
    "    if c==0:\n",
    "        print(i)"
   ]
  },
  {
   "attachments": {},
   "cell_type": "markdown",
   "metadata": {},
   "source": [
    "## Day 3\n",
    "### Morning\n",
    "##### Program 1\n",
    "WAP to check if a number is negative or positive."
   ]
  },
  {
   "cell_type": "code",
   "execution_count": null,
   "metadata": {},
   "outputs": [],
   "source": [
    "n = int(input(\"Enter a number: \"))\n",
    "if(n<0):\n",
    "    print(\"Number is negative.\")\n",
    "else:\n",
    "    print(\"Number is positive.\")\n",
    "\n",
    "    "
   ]
  },
  {
   "attachments": {},
   "cell_type": "markdown",
   "metadata": {},
   "source": [
    "##### Program 2\n",
    "WAP to print odd number sequence upto range n."
   ]
  },
  {
   "cell_type": "code",
   "execution_count": null,
   "metadata": {},
   "outputs": [],
   "source": [
    "n = int(input(\"Enter a number: \"))\n",
    "\n",
    "for i in range(0,n+1):\n",
    "    if (i%2 != 0):\n",
    "        print(i)\n",
    "   "
   ]
  },
  {
   "attachments": {},
   "cell_type": "markdown",
   "metadata": {},
   "source": [
    "##### Program 3\n",
    "WAP to print even numbers sequence upto range n."
   ]
  },
  {
   "cell_type": "code",
   "execution_count": null,
   "metadata": {},
   "outputs": [],
   "source": [
    "n = int(input(\"Enter a number: \"))\n",
    "\n",
    "for i in range(0,n+1):\n",
    "    if (i%2 == 0):\n",
    "        print(i)"
   ]
  },
  {
   "attachments": {},
   "cell_type": "markdown",
   "metadata": {},
   "source": [
    "##### Program 4\n",
    "WAP to make a pyramid with numbers"
   ]
  },
  {
   "cell_type": "code",
   "execution_count": null,
   "metadata": {},
   "outputs": [],
   "source": [
    "n = int(input(\"Enter a number: \"))\n",
    "num=1\n",
    "for i in range(n,0,-1):\n",
    "    for j in range(0,i):\n",
    "        print(num,end=\"\")\n",
    "        \n",
    "    print(\"\\n\")\n",
    "    num+=1    "
   ]
  },
  {
   "attachments": {},
   "cell_type": "markdown",
   "metadata": {},
   "source": [
    "##### Program 5\n",
    "WAP to print Fibonacci series upto n.\n"
   ]
  },
  {
   "cell_type": "code",
   "execution_count": null,
   "metadata": {},
   "outputs": [
    {
     "name": "stdout",
     "output_type": "stream",
     "text": [
      "0\n",
      "1\n",
      "1\n",
      "2\n",
      "3\n",
      "5\n",
      "8\n"
     ]
    }
   ],
   "source": [
    "n = int(input(\"Enter a number: \"))\n",
    "n1,n2 =0,1\n",
    "\n",
    "while n1<n:\n",
    "    print(n1)\n",
    "    n1,n2 = n2, n1+n2"
   ]
  },
  {
   "attachments": {},
   "cell_type": "markdown",
   "metadata": {},
   "source": [
    "##### Program 6\n",
    "WAP to print factorial of n."
   ]
  },
  {
   "cell_type": "code",
   "execution_count": 24,
   "metadata": {},
   "outputs": [
    {
     "name": "stdout",
     "output_type": "stream",
     "text": [
      "6\n"
     ]
    }
   ],
   "source": [
    "n=int(input())\n",
    "m=1\n",
    "for i in range(n,0,-1):\n",
    "    m= m*i\n",
    "    n-=n\n",
    "print(m)\n",
    "    "
   ]
  },
  {
   "attachments": {},
   "cell_type": "markdown",
   "metadata": {},
   "source": [
    "##### Program 7\n",
    "WAP to factors of n."
   ]
  },
  {
   "cell_type": "code",
   "execution_count": 27,
   "metadata": {},
   "outputs": [
    {
     "name": "stdout",
     "output_type": "stream",
     "text": [
      "10\n",
      "5\n",
      "2\n",
      "1\n"
     ]
    }
   ],
   "source": [
    "n=int(input())\n",
    "for i in range(n,0,-1):\n",
    "    if n%i==0:\n",
    "        print(i)"
   ]
  },
  {
   "attachments": {},
   "cell_type": "markdown",
   "metadata": {},
   "source": [
    "##### Program 8\n",
    "WAP to print trasactions and balances."
   ]
  },
  {
   "cell_type": "code",
   "execution_count": 37,
   "metadata": {},
   "outputs": [
    {
     "name": "stdout",
     "output_type": "stream",
     "text": [
      "Enter Correct amount.\n",
      " It should be multiple of 5\n"
     ]
    }
   ],
   "source": [
    "bal=float(input(\"Enter balance: \"))\n",
    "x=float(input(\"Enter amount to withdraw: \"))\n",
    "if x%5==0 and bal>(x+1.5):\n",
    "    bal=(bal-x)-1.5\n",
    "    print(\"Transaction successful \\nAccount balance is: \",bal)\n",
    "elif x%5==0 and bal<(x+1.5):\n",
    "    print(\"Not enough balance.\\nCurrent Balance: \",bal)\n",
    "else:\n",
    "    print(\"Entered amount is incorrect.\\nAmount should be multiple of 5\")\n"
   ]
  },
  {
   "attachments": {},
   "cell_type": "markdown",
   "metadata": {},
   "source": [
    "##### Program 9\n",
    "WAP to  display right triangle with * using loops.\n"
   ]
  },
  {
   "cell_type": "code",
   "execution_count": 2,
   "metadata": {},
   "outputs": [
    {
     "name": "stdout",
     "output_type": "stream",
     "text": [
      "*\n",
      "**\n",
      "***\n",
      "****\n",
      "*****\n"
     ]
    }
   ],
   "source": [
    "for i in range(0,5):\n",
    "    for j in range(0,i+1):\n",
    "        print(\"*\",end=\"\")\n",
    "    print(\"\")"
   ]
  },
  {
   "attachments": {},
   "cell_type": "markdown",
   "metadata": {},
   "source": [
    "## <b>After Break\n",
    "#### <b>Note\n",
    "##### <b>Strings in python-\n",
    " <h5> <i>sequence of characters stored in single, double or triple quotes.\n",
    "strings are ordered, immutable, indexed connection of data.</i></h5>\n",
    "\n",
    "##### <b>Operations performed on data\n",
    "\n",
    "<h5> -to retrieve the data :\n",
    "arr[i]  // i is the index of the data<br>\n",
    "-to traverse :<br>\n",
    "loops are used <br><br>\n",
    "-to update :<br>\n",
    "strings are immutable.</h5><br>\n",
    "\n",
    "##### <b>Methods in Strings\n",
    "<i> => To split\n",
    "<h5> split('Parameter')  -> it returns a list with parameter refered.\n",
    "\n",
    "x.strip() -> it removes spaces from x variable and and returns the list. .join is used to convert it to string. <br>\n",
    "find('parameter') -> it passes the index of the substring passed as parameter.<br>\n",
    "count('n') -> counts the occurances of the parameter provided. <br>\n",
    "title() -> onlu converts first letter to uppercase<br>\n",
    "upper()-> converts string to uppercase<br>\n",
    "lower() -> it converts all letters to lowercase.<br>\n",
    "swapcase -> inverts the characters case. if letters are uppercase then it converts them to lowercase and vice versa.</i> </h5>\n",
    "\n",
    "##### <b>Slicing in strings\n",
    "##### name[ start : end : step ]\n",
    "\n"
   ]
  },
  {
   "attachments": {},
   "cell_type": "markdown",
   "metadata": {},
   "source": [
    "### Program 1\n",
    "##### WAP to print all the possible substrings from a string."
   ]
  },
  {
   "cell_type": "code",
   "execution_count": 2,
   "metadata": {},
   "outputs": [
    {
     "name": "stdout",
     "output_type": "stream",
     "text": [
      "M Mi i Mie ie e Miet iet et t "
     ]
    }
   ],
   "source": [
    "str =\"Miet\"\n",
    "\n",
    "for i in range(len(str)+1):\n",
    "    for j in range(i):\n",
    "        print(str[j:i],end=\" \")\n",
    "        \n",
    "        \n",
    "        \n",
    "\n",
    "    \n",
    "    \n",
    "\n"
   ]
  },
  {
   "attachments": {},
   "cell_type": "markdown",
   "metadata": {},
   "source": [
    "### Program 2\n",
    "##### <i>WAP to print all the possible substrings from a string where combination of sum of vowels equals 6</i>"
   ]
  },
  {
   "cell_type": "code",
   "execution_count": 84,
   "metadata": {},
   "outputs": [
    {
     "name": "stdout",
     "output_type": "stream",
     "text": [
      "this\n",
      "his\n",
      "this \n",
      "his \n",
      "this i\n",
      "his i\n"
     ]
    }
   ],
   "source": [
    "# str =input(\"Enter a string\")\n",
    "# list=['a','e','i','o','u']\n",
    "# c=0 \n",
    "\n",
    "# for i in range(len(str)+1):\n",
    "#     for j in range(i):\n",
    "#         for i in range (len(list)):\n",
    "#             if list[i] in str:\n",
    "#                 c+=1\n",
    "#             if c>=6:\n",
    "#                 print(str[j:i],end=\"\\n\")\n",
    "\n",
    "strr=input(\"Enter a string: \")\n",
    "vowels='aeiou'\n",
    "alphabets='abcdefghijklmnopqrstuvwxyz'\n",
    "for i in range(len(strr)+1):\n",
    "    for j in range(i+1):\n",
    "        value=0\n",
    "\n",
    "        for a in (strr[j:i]):\n",
    "            if a in vowels:\n",
    "                value=value+alphabets.index(a)+1\n",
    "        if value==6:\n",
    "            print(str[j:i])\n",
    "        "
   ]
  },
  {
   "attachments": {},
   "cell_type": "markdown",
   "metadata": {},
   "source": [
    "##### Program 3\n",
    "##### <i>WAP to merge two string in index order</i>"
   ]
  },
  {
   "cell_type": "code",
   "execution_count": 88,
   "metadata": {},
   "outputs": [
    {
     "name": "stdout",
     "output_type": "stream",
     "text": [
      "mriaemtu\n"
     ]
    }
   ],
   "source": [
    "a=input()\n",
    "b=input()\n",
    "c=''\n",
    "for i in range (len(a)):\n",
    "    c=c+a[i]+b[i]\n",
    "print(c)\n",
    "\n",
    "\n"
   ]
  },
  {
   "attachments": {},
   "cell_type": "markdown",
   "metadata": {},
   "source": [
    "#### Program 4\n"
   ]
  },
  {
   "cell_type": "code",
   "execution_count": 90,
   "metadata": {},
   "outputs": [],
   "source": [
    "# x=input()\n",
    "# num=0\n",
    "# c=''\n",
    "# al='abcdefghijklmnopqrstuvwxyz'\n",
    "# for i in range (0,len(x),2):\n",
    "#     c=c+i\n"
   ]
  },
  {
   "attachments": {},
   "cell_type": "markdown",
   "metadata": {},
   "source": [
    "#### Program 5\n",
    "##### <i>WAP to create a dynamic list and add the individual digits sum of the elements of list.</i>"
   ]
  },
  {
   "cell_type": "code",
   "execution_count": null,
   "metadata": {},
   "outputs": [],
   "source": [
    "list1=[]\n",
    "total=0\n",
    "n=int(input())\n",
    "for i in range(n):\n",
    "    list1.append(input())\n",
    "print(list1)\n",
    "for i in list1:\n",
    "    for j in str(i):\n",
    "        total+=int(j)\n",
    "print(total)\n",
    "    "
   ]
  },
  {
   "attachments": {},
   "cell_type": "markdown",
   "metadata": {},
   "source": [
    "## <b>Day 4\n",
    "### Morning\n",
    "##### <b>Program 1\n",
    "\n",
    "##### <i> WAP to reverse order of words.</i>"
   ]
  },
  {
   "cell_type": "code",
   "execution_count": 22,
   "metadata": {},
   "outputs": [
    {
     "name": "stdout",
     "output_type": "stream",
     "text": [
      "example an is this "
     ]
    }
   ],
   "source": [
    "x=input(\"Enter a sentence\")\n",
    "x=x.split(\" \")\n",
    "n=len(x)\n",
    "\n",
    "for i in range(n-1,-1,-1):\n",
    "    print(\"\".join(x[i]),end=\" \")\n",
    "    \n"
   ]
  },
  {
   "attachments": {},
   "cell_type": "markdown",
   "metadata": {},
   "source": [
    "##### <b>Program 2\n",
    "<h5><i>WAP to create a function and show number of transaction is a bank.</i></h5>"
   ]
  },
  {
   "cell_type": "code",
   "execution_count": 53,
   "metadata": {},
   "outputs": [
    {
     "name": "stdout",
     "output_type": "stream",
     "text": [
      "Transaction:  1 Succesful\n",
      "Transaction:  2 Succesful\n",
      "Transaction  3 cannot be performed \n",
      " Reason : Not enough balance.\n",
      "Current Balance:  17.0\n",
      "Transaction successful \n",
      "Account balance is:  17.0 Number of succesfull transactions:  2\n"
     ]
    }
   ],
   "source": [
    "bal=float(input(\"Enter balance: \"))\n",
    "t=int(input(\"Enter number of transactions: \"))\n",
    "c=0\n",
    "\n",
    "for i in range(0,t):\n",
    "    \n",
    "    x=float(input(\"Enter amount to withdraw: \"))\n",
    "    if x%5==0 and bal>(x+1.5):\n",
    "        bal=(bal-(x+1.5))\n",
    "        c+=1\n",
    "        print(\"Transaction: \",c,\"Succesful\")\n",
    "    elif x%5==0 and bal<(x+1.5):\n",
    "        print(\"Transaction: \",c+1,\"cannot be performed \\nReason : Not enough balance.\\nCurrent Balance: \",bal)\n",
    "        \n",
    "    else:\n",
    "        print(\"Entered amount is incorrect.\\nAmount should be multiple of 5\")\n",
    "print(\"Transaction successful \\nAccount balance is: \",bal,\"Number of succesfull transactions: \",c)"
   ]
  },
  {
   "attachments": {},
   "cell_type": "markdown",
   "metadata": {},
   "source": [
    "#### <b>Program 3\n",
    "<h5><i>WAP to Determine the match winner</i><h5>"
   ]
  },
  {
   "cell_type": "code",
   "execution_count": 59,
   "metadata": {},
   "outputs": [
    {
     "name": "stdout",
     "output_type": "stream",
     "text": [
      "Team Banana Won by 21 Points\n"
     ]
    }
   ],
   "source": [
    "A1=int(input(\"Enter 3 points shot for Apple: \"))*3\n",
    "A2=int(input(\"Enter 2 points shot for Apple: \"))*2\n",
    "A3=int(input(\"Enter 1 points shot for Apple: \"))\n",
    "B1=int(input(\"Enter 3 points shot for Banana: \"))*3\n",
    "B2=int(input(\"Enter 2 points shot for Banana: \"))*2\n",
    "B3=int(input(\"Enter 1 points shot for Banana: \"))\n",
    "A=A1+A2+A3\n",
    "B=B1+B2+B3\n",
    "if(A>B):\n",
    "    c=A-B\n",
    "    print(\"Team Apple Won by\",c,\"Points\")\n",
    "elif(A==B):\n",
    "    print(\"Match Tied\")\n",
    "else:\n",
    "    c=B-A\n",
    "    print(\"Team Banana Won by\",c,\"Points\")\n",
    "    "
   ]
  },
  {
   "attachments": {},
   "cell_type": "markdown",
   "metadata": {},
   "source": [
    "### <b>After Break<b>\n",
    "\n",
    "#### <b>Topic - Lists and Sets.\n",
    "<h5><i>List comprehensions -> \n",
    "output_variable for variable in iterable/data sequence.\n",
    "example:</i>\n",
    "\n",
    "arr=[23,34,35]<br>\n",
    "arr1=list(x for x in arr if x%2!=0)<br>\n",
    "print(arr1)</h5>\n",
    "\n",
    "##### <b>Program 1\n",
    "<h5><i>Caeseer Cypher:<br>\n",
    "Shifting Alphabets to new alphabets by given value.</i></h5>"
   ]
  },
  {
   "cell_type": "code",
   "execution_count": 94,
   "metadata": {},
   "outputs": [
    {
     "name": "stdout",
     "output_type": "stream",
     "text": [
      "\n"
     ]
    }
   ],
   "source": [
    "n=int(input(\"Enter length of String\"))\n",
    "shift=int(input(\"Shifting value: \")) \n",
    "x=input(\"Enter a string: \").lower()\n",
    "\n",
    "output=''\n",
    "\n",
    "for i in x:\n",
    "    if ' '==i:\n",
    "        output+=' '\n",
    "    elif ord(i)+shift>122:\n",
    "        output+=chr(ord(i)+shift-26)\n",
    "    else:\n",
    "        output+=chr(ord(i)+shift)\n",
    "print(output)\n",
    "\n",
    "\n"
   ]
  },
  {
   "attachments": {},
   "cell_type": "markdown",
   "metadata": {},
   "source": [
    "##### <b><h4>Tuples</h4><b>\n",
    "<h5>()\n",
    "\n",
    "Duplicate values are allowed , immutable\n",
    "ex -> \n",
    "\n",
    "tuple= (23,34,34,44,56)</h5>\n",
    "\n",
    "##### functions can be used\n",
    "<h5>count() , Index(), len(), sorted()</h5> "
   ]
  },
  {
   "attachments": {},
   "cell_type": "markdown",
   "metadata": {},
   "source": [
    "<h4> <b>Set Data Structure</h4>\n",
    "\n",
    "<h5>iterable, immutable </h5>\n",
    "\n",
    "<h4>functions can be used:</h4>\n",
    "<h5> add(), pop(), remove(), discard(),count() ,sorted().copy()</h5>\n",
    "<br><h4>Mathamatical methods:</h4>\n",
    "<h5>union(), intersection(), difference(), symmetricdifference(). \n",
    "</h5><br><br>"
   ]
  },
  {
   "attachments": {},
   "cell_type": "markdown",
   "metadata": {},
   "source": [
    "#### <b>Dictionary\n",
    "\n",
    "<h5>key and value pair\n",
    "no duplicate keys.</h5>\n",
    "\n",
    "<h5><i>example:</i><br><br>\n",
    "dictt={15:'name', 16: 'miet'}<br>\n",
    "print(dict)             // output:-> 15: name , 16: miet<br>\n",
    "print (dict[16])        // 'miet'<br>\n",
    "</h5>\n",
    "\n",
    "<h5><b>Methods used in dictionary </h5>\n",
    "<h5>pop(), keys(), values(), popitem(), items() </h5>"
   ]
  },
  {
   "attachments": {},
   "cell_type": "markdown",
   "metadata": {},
   "source": [
    "<h5><i>WAP to create a dynamic dictionary with name, branch, semester and phone number as the value and roll number as a key. Take roll number as input</i>\n",
    "</h5>"
   ]
  },
  {
   "cell_type": "code",
   "execution_count": 96,
   "metadata": {},
   "outputs": [
    {
     "name": "stdout",
     "output_type": "stream",
     "text": [
      "{'1': ['sahil', 'sharma', 'cse'], '2': ['aditya']}\n"
     ]
    }
   ],
   "source": [
    "dictt={}\n",
    "n=int(input(\"Enter number of inputs: \"))\n",
    "for i in range(n):\n",
    "    roll = input(\"Enter roll number: \")\n",
    "    values=input().split()\n",
    "    dictt[roll]=values\n",
    "print(dictt)\n",
    "\n"
   ]
  },
  {
   "attachments": {},
   "cell_type": "markdown",
   "metadata": {},
   "source": [
    "## Day 5\n",
    "\n",
    "### Program 1\n",
    "\n",
    "<h5><i>WAP to find index containing strings.</i>\n",
    "\n",
    "Input = Navya, 98, Hema, Siroj, Tarun, 78, 90, Ramya\n",
    "\n",
    "Output = 0 2 3 4 7</h5>"
   ]
  },
  {
   "cell_type": "code",
   "execution_count": 12,
   "metadata": {},
   "outputs": [
    {
     "name": "stdout",
     "output_type": "stream",
     "text": [
      "0 2 3 4 7 "
     ]
    }
   ],
   "source": [
    "l=['Navya', 98, 'Hema', 'Siroj', 'Tarun', 78, 90, 'Ramya']\n",
    "\n",
    "for i in range(len(l)):    \n",
    "    if type(l[i]) is str:\n",
    "        print(i,end=\" \")\n",
    "\n",
    "    "
   ]
  },
  {
   "attachments": {},
   "cell_type": "markdown",
   "metadata": {},
   "source": [
    "### Program 2\n",
    "<h5><i>WAP to remove all common elements of two lists.\n",
    "input:<br>\n",
    "a = [1,2,3,4,5]<br>\n",
    "b = [4,5,6,7,8]<br>\n",
    "Output:<br>\n",
    "list1 : [1,2,3]<br>\n",
    "list2 : [6,7,8]<br>\n"
   ]
  },
  {
   "cell_type": "code",
   "execution_count": 51,
   "metadata": {},
   "outputs": [
    {
     "name": "stdout",
     "output_type": "stream",
     "text": [
      "list1:  [1, 2, 3]\n",
      "list2:  [6, 7, 8]\n"
     ]
    }
   ],
   "source": [
    "a = [1,2,3,4,5]\n",
    "b = [4,5,6,7,8]\n",
    "\n",
    "for i in a[:]:\n",
    "    if i in b:\n",
    "        a.remove(i)\n",
    "        b.remove(i)\n",
    "print(\"list1: \",a)\n",
    "print(\"list2: \",b)"
   ]
  },
  {
   "attachments": {},
   "cell_type": "markdown",
   "metadata": {},
   "source": [
    "#### Program 3\n",
    "\n",
    "WAP to count even and odd digits in a number"
   ]
  },
  {
   "cell_type": "code",
   "execution_count": 98,
   "metadata": {},
   "outputs": [
    {
     "name": "stdout",
     "output_type": "stream",
     "text": [
      "even:  3\n",
      "odd:  3\n"
     ]
    }
   ],
   "source": [
    "l=input()\n",
    "o,e=0,0\n",
    "\n",
    "for i in range(0,len(l)):\n",
    "    if int(l[i]) %2==0:\n",
    "        e+=1\n",
    "        \n",
    "    else:\n",
    "        o+=1\n",
    "        \n",
    "print(\"even: \",e)\n",
    "print(\"odd: \",o)"
   ]
  },
  {
   "attachments": {},
   "cell_type": "markdown",
   "metadata": {},
   "source": [
    "## Second Half"
   ]
  },
  {
   "attachments": {},
   "cell_type": "markdown",
   "metadata": {},
   "source": [
    "WAP to create a list of dictionaries using two list as refernces.\n",
    "s1=[12,23,34,45]\n",
    "s2=['miet','model','institute','academy']\n",
    "\n",
    "soutput=[{12:'miet'},{23:'model'},{34:'institute'},{45:'academy'}]"
   ]
  },
  {
   "cell_type": "code",
   "execution_count": 27,
   "metadata": {},
   "outputs": [
    {
     "name": "stdout",
     "output_type": "stream",
     "text": [
      "[{12: 'miet'}, {23: 'model'}, {34: 'institute'}, {45: 'academy'}]\n"
     ]
    }
   ],
   "source": [
    "s1=[12,23,34,45]\n",
    "s2=['miet','model','institute','academy']\n",
    "output=[]\n",
    "for i in range(len(s1)):\n",
    "    output.append({s1[i]:s2[i]})\n",
    "    \n",
    "print(output)\n"
   ]
  },
  {
   "attachments": {},
   "cell_type": "markdown",
   "metadata": {},
   "source": [
    "### Program\n",
    "Hackerrank.com problem."
   ]
  },
  {
   "cell_type": "code",
   "execution_count": null,
   "metadata": {},
   "outputs": [],
   "source": [
    "m,n=list(map(int, input().split()))\n",
    "eat=list(map(int,input().split()))\n",
    "amount=int(input())\n",
    "eat.pop(n)\n",
    "e_amount=sum(eat)//2\n",
    "if amount>e_amount:\n",
    "    print(abs(amount-e_amount))\n",
    "else:\n",
    "    print('Bon Appetit')\n",
    "\n",
    "\n",
    "\n",
    "\n"
   ]
  },
  {
   "attachments": {},
   "cell_type": "markdown",
   "metadata": {},
   "source": [
    "### Problem 2"
   ]
  },
  {
   "cell_type": "code",
   "execution_count": null,
   "metadata": {},
   "outputs": [],
   "source": [
    "d1,m1,y1=list(map(int,input().split()))\n",
    "d2,m2,y2=list(map(int,input().split()))\n",
    "\n",
    "if y1>y2:\n",
    "    if m1>m2:\n",
    "        if d1>d2:\n",
    "            print('fine: ',((d2-d1)*15))\n",
    "        else:\n",
    "            print('No fine')\n",
    "    else:\n",
    "        print('fine: ')\n"
   ]
  },
  {
   "attachments": {},
   "cell_type": "markdown",
   "metadata": {},
   "source": [
    "#### Recursions\n",
    "<h5>Recursion function does not include Non returnable function</h5>\n",
    "<i>WAP print factorial of number using recursion</i>"
   ]
  },
  {
   "cell_type": "code",
   "execution_count": 1,
   "metadata": {},
   "outputs": [
    {
     "name": "stdout",
     "output_type": "stream",
     "text": [
      "120\n"
     ]
    }
   ],
   "source": [
    "\n",
    "\n",
    "\n",
    "\n",
    "def rec(n):\n",
    "    if n==1 or n==0:\n",
    "        return 1\n",
    "    else:\n",
    "        n=n*rec(n-1)\n",
    "        return n\n",
    "       \n",
    "        \n",
    "n=int(input())\n",
    "print(rec(n))"
   ]
  },
  {
   "attachments": {},
   "cell_type": "markdown",
   "metadata": {},
   "source": [
    "##### WAP to print prime number 1-n using recursion."
   ]
  },
  {
   "cell_type": "code",
   "execution_count": 3,
   "metadata": {},
   "outputs": [
    {
     "name": "stdout",
     "output_type": "stream",
     "text": [
      "2 3 5 7 11 13 17 19 23 29 31 37 41 43 47 53 59 61 67 71 73 79 83 89 97 101 103 107 109 113 127 131 137 139 149 151 157 163 167 173 179 181 191 193 197 199 211 223 227 229 233 239 241 251 257 263 269 271 277 281 283 293 307 311 313 317 331 337 347 349 353 359 367 373 379 383 389 397 401 409 419 421 431 433 439 443 449 457 461 463 467 479 487 491 499 503 509 521 523 541 547 557 563 569 571 577 587 593 599 601 607 613 617 619 631 641 643 647 653 659 661 673 677 683 691 701 709 719 727 733 739 743 751 757 761 769 773 787 797 809 811 821 823 827 829 839 853 857 859 863 877 881 883 887 907 911 919 929 937 941 947 953 967 971 977 983 991 997 "
     ]
    }
   ],
   "source": [
    "def prime(m,n):\n",
    "    if m==n:\n",
    "        return True\n",
    "    else:\n",
    "        if m%n==0:\n",
    "            return False\n",
    "        else:\n",
    "            return prime(m,n+1)\n",
    "    \n",
    "def one(low,up):\n",
    "    if low>=up:\n",
    "        return\n",
    "    elif prime(low+1,2):\n",
    "        print(low+1,end=\" \")\n",
    "    \n",
    "    one(low+1,up)\n",
    "\n",
    "\n",
    "n=int(input())\n",
    "\n",
    "one(1,n)"
   ]
  },
  {
   "attachments": {},
   "cell_type": "markdown",
   "metadata": {},
   "source": [
    "### OOPS\n",
    "\n",
    "Global Variables: available for whole program.\n"
   ]
  },
  {
   "attachments": {},
   "cell_type": "markdown",
   "metadata": {},
   "source": [
    "## DAY 6\n",
    "\n",
    "Hackerrank.com Problems 1"
   ]
  },
  {
   "cell_type": "code",
   "execution_count": 21,
   "metadata": {},
   "outputs": [
    {
     "name": "stdout",
     "output_type": "stream",
     "text": [
      "9\n"
     ]
    }
   ],
   "source": [
    "n=int(input(\"Day? \"))\n",
    "p=5\n",
    "l=0\n",
    "\n",
    "for i in range(0,n):\n",
    "    l=l+(p//2)\n",
    "    p= (p//2)*3\n",
    "print(l)\n",
    "     \n"
   ]
  },
  {
   "attachments": {},
   "cell_type": "markdown",
   "metadata": {},
   "source": [
    "##### WAP to print all the possible permutations of a string."
   ]
  },
  {
   "attachments": {},
   "cell_type": "markdown",
   "metadata": {},
   "source": [
    "WAP to create a class employee to store data i.e name, emp_id, address, phonebook of emloye under method employe data.<br> Create another method as salary calculation in which you devide salary by number of days present."
   ]
  },
  {
   "cell_type": "code",
   "execution_count": 33,
   "metadata": {},
   "outputs": [
    {
     "name": "stdout",
     "output_type": "stream",
     "text": [
      "id:  1 \n",
      "name:  sahil \n",
      "address:  heaven \n",
      "Phone number:  7889603303 \n",
      "Salary:  100\n",
      "Salary:  300\n"
     ]
    }
   ],
   "source": [
    "class employee():\n",
    "    def __init__(self,id,name,address,phone,salary):\n",
    "        self.id=id\n",
    "        self.name=name\n",
    "        self.address=address\n",
    "        self.phone=phone\n",
    "        self.salary=salary\n",
    "    def employee(self):\n",
    "        print('id: ',self.id,'\\nname: ',self.name,'\\naddress: ',self.address,'\\nPhone number: ',self.phone,'\\nSalary per month: ',self.salary)\n",
    "    \n",
    "    def sal(self,day):\n",
    "        print ('Salary: ',(self.salary//30)*day)\n",
    "e1=employee(1,'sahil','heaven',7889603303,100)\n",
    "e1.employee()\n",
    "e1.sal(100)"
   ]
  },
  {
   "attachments": {},
   "cell_type": "markdown",
   "metadata": {},
   "source": [
    "#### Searching and Sorting.\n",
    "\n",
    "##### <i>#Searches</i>\n",
    "<h5>Linear search<br>\n",
    "Binary search<br>\n",
    "Jump search<br>\n",
    "interpolation search<br></h5>\n",
    "\n",
    "##### <i>#Sorting<br></i>\n",
    "<h5>Bubble,\n",
    "Selection,\n",
    "Insertion,\n",
    "Merge,\n",
    "Quick,\n",
    "Heap,\n",
    "Shell,\n",
    "Radix,\n",
    "Count...etc.\n",
    "\n",
    "While calculating </h5>\n"
   ]
  },
  {
   "attachments": {},
   "cell_type": "markdown",
   "metadata": {},
   "source": [
    "##### WAP to sort the string.\n",
    "\n",
    " "
   ]
  },
  {
   "cell_type": "code",
   "execution_count": 8,
   "metadata": {},
   "outputs": [
    {
     "name": "stdout",
     "output_type": "stream",
     "text": [
      "24eimt\n"
     ]
    }
   ],
   "source": [
    "a='miet24'\n",
    "\n",
    "a=sorted(a)\n",
    "print(''.join(a))"
   ]
  },
  {
   "cell_type": "code",
   "execution_count": 24,
   "metadata": {},
   "outputs": [
    {
     "ename": "NameError",
     "evalue": "name 'isalpha' is not defined",
     "output_type": "error",
     "traceback": [
      "\u001b[1;31m---------------------------------------------------------------------------\u001b[0m",
      "\u001b[1;31mNameError\u001b[0m                                 Traceback (most recent call last)",
      "Cell \u001b[1;32mIn[24], line 4\u001b[0m\n\u001b[0;32m      2\u001b[0m a\u001b[39m=\u001b[39m\u001b[39msorted\u001b[39m(a)\n\u001b[0;32m      3\u001b[0m \u001b[39mfor\u001b[39;00m i \u001b[39min\u001b[39;00m a:\n\u001b[1;32m----> 4\u001b[0m     \u001b[39mif\u001b[39;00m isalpha(i):\n\u001b[0;32m      5\u001b[0m         i\u001b[39m=\u001b[39mi\u001b[39m+\u001b[39m(i\u001b[39m+\u001b[39m\u001b[39m1\u001b[39m)\n\u001b[0;32m      7\u001b[0m \u001b[39mprint\u001b[39m(a)\n",
      "\u001b[1;31mNameError\u001b[0m: name 'isalpha' is not defined"
     ]
    }
   ],
   "source": [
    "a='a4b3c1'\n",
    "a=sorted(a)\n",
    "for i in a:\n",
    "    if isalpha(i) == True:\n",
    "        i=i+(i+1)\n",
    "\n",
    "print(a)\n",
    "# a[0] = a[0] *a(int[1])\n",
    "# print (a)"
   ]
  },
  {
   "attachments": {},
   "cell_type": "markdown",
   "metadata": {},
   "source": [
    "#### WAP to find sum of digits of element in a list.\n",
    "ex=[23,34,45,56]\n",
    "output=2+3+3+4+4+5+5+6"
   ]
  },
  {
   "cell_type": "code",
   "execution_count": 64,
   "metadata": {},
   "outputs": [
    {
     "name": "stdout",
     "output_type": "stream",
     "text": [
      "11\n"
     ]
    }
   ],
   "source": [
    "x=['23','34','45','56']\n",
    "\n",
    "\n",
    "for i in x:\n",
    "    z=(int(i[0])+int(i[1]))\n",
    "print(z)\n"
   ]
  },
  {
   "cell_type": "code",
   "execution_count": 6,
   "metadata": {},
   "outputs": [
    {
     "ename": "TypeError",
     "evalue": "unsupported operand type(s) for +: 'int' and 'NoneType'",
     "output_type": "error",
     "traceback": [
      "\u001b[1;31m---------------------------------------------------------------------------\u001b[0m",
      "\u001b[1;31mTypeError\u001b[0m                                 Traceback (most recent call last)",
      "Cell \u001b[1;32mIn[6], line 16\u001b[0m\n\u001b[0;32m     13\u001b[0m         \u001b[39mpass\u001b[39;00m\n\u001b[0;32m     14\u001b[0m n\u001b[39m=\u001b[39m\u001b[39mint\u001b[39m(\u001b[39minput\u001b[39m())\n\u001b[1;32m---> 16\u001b[0m fib(n,\u001b[39m1\u001b[39;49m)\n\u001b[0;32m     18\u001b[0m \u001b[39m# n = int(input(\"Enter a number: \"))\u001b[39;00m\n\u001b[0;32m     19\u001b[0m \u001b[39m# n1,n2 =0,1\u001b[39;00m\n\u001b[0;32m     20\u001b[0m \n\u001b[0;32m     21\u001b[0m \u001b[39m# while n1<n:\u001b[39;00m\n\u001b[0;32m     22\u001b[0m \u001b[39m#     print(n1)\u001b[39;00m\n\u001b[0;32m     23\u001b[0m \u001b[39m#     n1,n2 = n2, n1+n2\u001b[39;00m\n",
      "Cell \u001b[1;32mIn[6], line 10\u001b[0m, in \u001b[0;36mfib\u001b[1;34m(n, k)\u001b[0m\n\u001b[0;32m      8\u001b[0m \u001b[39mdef\u001b[39;00m \u001b[39mfib\u001b[39m(n,k):\n\u001b[0;32m      9\u001b[0m     \u001b[39mif\u001b[39;00m k\u001b[39m<\u001b[39mn:\n\u001b[1;32m---> 10\u001b[0m         k\u001b[39m=\u001b[39mk\u001b[39m+\u001b[39;49m(re(k\u001b[39m+\u001b[39;49m\u001b[39m1\u001b[39;49m))\n\u001b[0;32m     11\u001b[0m         \u001b[39mprint\u001b[39m(n)\n\u001b[0;32m     12\u001b[0m     \u001b[39melse\u001b[39;00m:\n",
      "\u001b[1;31mTypeError\u001b[0m: unsupported operand type(s) for +: 'int' and 'NoneType'"
     ]
    }
   ],
   "source": [
    "def re(k):\n",
    "    if k==n:\n",
    "        return\n",
    "    \n",
    "    else:\n",
    "       k=k+1\n",
    "\n",
    "def fib(n,k):\n",
    "    if k<n:\n",
    "        k=k+(re(k+1))\n",
    "        print(n)\n",
    "    else:\n",
    "        pass\n",
    "n=int(input())\n",
    "\n",
    "fib(n,1)\n",
    "\n",
    "# n = int(input(\"Enter a number: \"))\n",
    "# n1,n2 =0,1\n",
    "\n",
    "# while n1<n:\n",
    "#     print(n1)\n",
    "#     n1,n2 = n2, n1+n2"
   ]
  },
  {
   "cell_type": "markdown",
   "metadata": {},
   "source": [
    "##### WAP to generate a list where next term i sqare addition of the even digits of the previous term.\n",
    "\n",
    "default is listt=[42]"
   ]
  },
  {
   "cell_type": "code",
   "execution_count": 13,
   "metadata": {},
   "outputs": [
    {
     "name": "stdout",
     "output_type": "stream",
     "text": [
      "[42, 20, 4, 16, 36, 36, 36, 36, 36, 36]\n"
     ]
    }
   ],
   "source": [
    "listt=[42]\n",
    "n=int(input())\n",
    "for j in range(1,n):\n",
    "\n",
    "    i=listt[j-1]\n",
    "    total=0\n",
    "    while (i>0):\n",
    "        if (i%10)%2==0:\n",
    "            total+=(i%10)**2\n",
    "        i//=10\n",
    "    if total==0:\n",
    "       print(\"cannot generate list\")\n",
    "       break\n",
    "    listt.append(total)\n",
    "print(listt)"
   ]
  },
  {
   "attachments": {},
   "cell_type": "markdown",
   "metadata": {},
   "source": [
    "## DAY 7\n",
    "##### Binary Search\n",
    "<h5><i>Array should be sorted.</i></h5>\n",
    "step 1-><br>\n",
    "compare mid of list to key.\n",
    "if it is equal the answer is mid.<br>\n",
    "step 2-> <br>\n",
    "if mid value is smaller than key.\n",
    "change the low value to mid.\n",
    "and again.<br>\n",
    "step3-><br> \n",
    "if mid is greater than key .\n",
    "change the high value to mid.<br>\n",
    "step 4-><br>repeat the steps untill you find the answer."
   ]
  },
  {
   "cell_type": "code",
   "execution_count": 10,
   "metadata": {},
   "outputs": [
    {
     "name": "stdout",
     "output_type": "stream",
     "text": [
      "[4, 5, 5, 5, 7, 9, 9, 36, 54, 65, 65, 67, 67, 68, 90, 98, 98, 98, 98, 798, 854, 889, 974, 78565]\n",
      "element found at index: 11\n"
     ]
    }
   ],
   "source": [
    "l=list(map(int, input().split()))\n",
    "l.sort()\n",
    "print(l)\n",
    "key=int(input())\n",
    "low=0\n",
    "high=len(l)-1\n",
    "while low<high:\n",
    "    mid=low+high //2\n",
    "    if l[mid]==key:\n",
    "        print('element found at index:', mid)\n",
    "        break\n",
    "    elif key>l[mid]:\n",
    "        low=mid+1\n",
    "    elif key<l[mid]:\n",
    "        high=mid+1\n",
    "\n"
   ]
  },
  {
   "attachments": {},
   "cell_type": "markdown",
   "metadata": {},
   "source": [
    "### Ternary Search\n",
    "<h5><i>same as binary search but we devide array in 3 parts.</i></h5>"
   ]
  },
  {
   "cell_type": "code",
   "execution_count": 19,
   "metadata": {},
   "outputs": [],
   "source": [
    "arr=[23,34,45,67,88]\n",
    "arr.sort()\n",
    "key=45\n",
    "l=0\n",
    "h=len(arr)-1\n",
    "mid1=h-(l+h)//3\n",
    "mid2=l+(l+h)//3\n",
    "while l <h:\n",
    "    if key==arr[mid1]:\n",
    "        print('element found at index',mid1)\n",
    "        break\n",
    "    elif key==arr[mid2]:\n",
    "        print('element found at index',mid2)\n",
    "        break\n",
    "    elif key>arr[mid1]:\n",
    "        l=mid1+1\n",
    "    elif key>arr[mid2] and key<arr[mid1]:\n",
    "        l=mid2+1\n",
    "        h=mid1-1\n",
    "    elif key<arr[mid2]:\n",
    "        h=mid2-1\n",
    "        "
   ]
  },
  {
   "attachments": {},
   "cell_type": "markdown",
   "metadata": {},
   "source": [
    "### Interpolation search\n",
    "arr[high]=m*(high)+c  -------------(1)<br>\n",
    "arr[low]=m*(low)+c    -------------(2)<br>\n",
    "\n",
    "arr[high]-arr[low]=m( high-low)<Br>\n",
    "m=arr[high]-arr[low]/( high-low)------(4)<Br>\n",
    "key=m*pos+c   ----------(3)<Br>\n",
    "sub eq 1 and 3<br>\n",
    "arr[high]-key=m(high-pos)<Br>\n",
    "m=(arr[high]-key)/(high-pos) -----(5)<Br>\n",
    "\n",
    "\n",
    "\n",
    "\n",
    "\n"
   ]
  },
  {
   "cell_type": "code",
   "execution_count": 31,
   "metadata": {},
   "outputs": [
    {
     "name": "stdout",
     "output_type": "stream",
     "text": [
      "Element found at index 2\n"
     ]
    }
   ],
   "source": [
    "listt=list(map(int, input().split()))\n",
    "key=int(input())\n",
    "low=0\n",
    "high=len(listt)-1\n",
    "while low<=high and key<=listt[high] and key>=listt[low]:\n",
    "    pos =low+(high-low)*(key-listt[low])//(listt[high]-listt[low])\n",
    "    if listt[pos]==key:\n",
    "        print('Element found at index:',pos)\n",
    "        break\n",
    "    elif listt[pos]<key:\n",
    "        low=pos+1\n",
    "    elif listt[pos]>key:\n",
    "        high=pos-1\n"
   ]
  },
  {
   "attachments": {},
   "cell_type": "markdown",
   "metadata": {},
   "source": [
    "<h5>WAP to search the index of the  second element occurence if it is present more than onee time\n",
    "ex-[23.34.45.56.56.67]\n",
    "searching by default will give you first occurance index need to apply logic to find second occurance that is in this case \n",
    "i=5\n",
    "by default you will get =4</h5>"
   ]
  },
  {
   "attachments": {},
   "cell_type": "markdown",
   "metadata": {},
   "source": [
    "## After break\n",
    "\n",
    "#### Sorting techniques\n",
    "Bubble sort<br>\n",
    "Selection<br>\n",
    "Insertion<br>\n",
    "Quick<br>\n",
    "Merge<br>\n",
    "Heap<br>\n",
    "Count<br>\n",
    "Raidx<br>"
   ]
  },
  {
   "attachments": {},
   "cell_type": "markdown",
   "metadata": {},
   "source": [
    "### Bubble Sort\n",
    "\n",
    "<h5><i>Example:</i></h5>"
   ]
  },
  {
   "cell_type": "code",
   "execution_count": 34,
   "metadata": {},
   "outputs": [
    {
     "data": {
      "text/plain": [
       "[1, 2, 3, 4, 5, 6, 7]"
      ]
     },
     "execution_count": 34,
     "metadata": {},
     "output_type": "execute_result"
    }
   ],
   "source": [
    "arr=list(map(int,input().split()))\n",
    "for i in range(len(arr)):\n",
    "    for j in range(len(arr)-i-1):\n",
    "        if arr[j]>arr[j+1]:\n",
    "            arr[j],arr[j+1]=arr[j+1],arr[j]\n",
    "\n",
    "arr"
   ]
  },
  {
   "attachments": {},
   "cell_type": "markdown",
   "metadata": {},
   "source": [
    "### Selection Sort\n",
    "<h5><i>Find minimum value and compare it with all other element and swap when required untill you sort the list.</i></h5>"
   ]
  },
  {
   "cell_type": "code",
   "execution_count": 42,
   "metadata": {},
   "outputs": [
    {
     "data": {
      "text/plain": [
       "[1, 2, 5, 23, 34, 45]"
      ]
     },
     "execution_count": 42,
     "metadata": {},
     "output_type": "execute_result"
    }
   ],
   "source": [
    "arr=[23,34,5,1,2,45]\n",
    "\n",
    "for i in range(len(arr)):\n",
    "    mini=arr[i]\n",
    "    for j in range(i,len(arr)):\n",
    "        if arr[j]<mini:\n",
    "            mini=arr[j]\n",
    "            arr[i],arr[j]=arr[j],arr[i]\n",
    "arr            "
   ]
  },
  {
   "attachments": {},
   "cell_type": "markdown",
   "metadata": {},
   "source": [
    "### Insertion sort\n"
   ]
  },
  {
   "attachments": {},
   "cell_type": "markdown",
   "metadata": {},
   "source": [
    "# Day 8"
   ]
  },
  {
   "attachments": {},
   "cell_type": "markdown",
   "metadata": {},
   "source": [
    "##### Program 1\n",
    "\n",
    "<h5><i> Write a program for linear search on tuples</i><br><br>\n",
    "Input: kiran sachin 24 12 the<br>\n",
    "key:12 <br>\n",
    "Output:found"
   ]
  },
  {
   "cell_type": "code",
   "execution_count": 50,
   "metadata": {},
   "outputs": [
    {
     "name": "stdout",
     "output_type": "stream",
     "text": [
      "found at index 1\n"
     ]
    }
   ],
   "source": [
    "l=('kiran', 'sachin',24,12,'the')\n",
    "\n",
    "key=input()\n",
    "\n",
    "if key.isalpha():\n",
    "    key=str(key)\n",
    "elif key.isnumeric:\n",
    "    key=int(key)\n",
    "\n",
    "    \n",
    "\n",
    "for i in range(0,len(l)):\n",
    "    if l[i] == key:\n",
    "        print('found at index',i)\n",
    "\n",
    "        \n",
    "\n",
    "    "
   ]
  },
  {
   "attachments": {},
   "cell_type": "markdown",
   "metadata": {},
   "source": [
    "##### WAP to convert a given string list to a tuple.\n",
    "\n",
    "<h5>Input: virat kohli 18<br>\n",
    "Output: ('v','i','r','a','t','k','o','h','l','i','1','8')</h5>"
   ]
  },
  {
   "cell_type": "code",
   "execution_count": 69,
   "metadata": {},
   "outputs": [
    {
     "name": "stdout",
     "output_type": "stream",
     "text": [
      "('v', 'i', 'r', 'a', 't', 'k', 'o', 'h', 'l', 'i', '1', '8')\n"
     ]
    }
   ],
   "source": [
    "l=input()\n",
    "x=tuple()\n",
    "for i in l:\n",
    "    if i!=' ':\n",
    "        x+=tuple(i)\n",
    "print(x)\n"
   ]
  },
  {
   "cell_type": "code",
   "execution_count": 95,
   "metadata": {},
   "outputs": [
    {
     "name": "stdout",
     "output_type": "stream",
     "text": [
      "12\n",
      "[1, 2, 3, 4, 6, 12]\n"
     ]
    }
   ],
   "source": [
    "n=int(input())\n",
    "z=int(input())\n",
    "l=[]\n",
    "for i in range(1,(n+1)):\n",
    "    if n%i==0:\n",
    "        l+=[i]\n",
    "print(len(l))\n",
    "if z>len(l):\n",
    "    print(l[0:])\n",
    "else:\n",
    "    print(l[0:z])"
   ]
  },
  {
   "attachments": {},
   "cell_type": "markdown",
   "metadata": {},
   "source": [
    "### After Break\n",
    "<h5><i> Data Structures</i></h5>"
   ]
  },
  {
   "cell_type": "code",
   "execution_count": null,
   "metadata": {},
   "outputs": [],
   "source": [
    "class node():\n",
    "    def __init__(self,data=None):\n",
    "        self.data=data\n",
    "        self.next=None\n",
    "class linked():\n",
    "    def __init__(self):\n",
    "        self.head=None\n",
    "    def insert_at_begining(self,new_data):\n",
    "        new_node=node(new_data)\n",
    "        if self.head is None:\n",
    "            self.head=new_node\n",
    "            temp=self.head\n",
    "        else:\n",
    "            self.head=new_node\n",
    "            new_node.next=temp\n",
    "\n",
    "    \n",
    "l=linked()\n",
    "\n",
    "node1= node('xp')\n",
    "node2= node('xD')\n",
    "node3= node(\"example 3\")\n",
    "node4= node('fourth example')\n",
    "l.head=node1\n",
    "l.head.next=node2\n",
    "node2.next=node3\n",
    "node3.next=node4"
   ]
  },
  {
   "attachments": {},
   "cell_type": "markdown",
   "metadata": {},
   "source": [
    "<h3>WAP to check the length of longest palindrome."
   ]
  },
  {
   "cell_type": "code",
   "execution_count": null,
   "metadata": {},
   "outputs": [],
   "source": [
    "class node():\n",
    "    def __init__(self,data=None):\n",
    "        self.data=data\n",
    "        self.next=None\n",
    "class linked():\n",
    "    def __init__(self):\n",
    "        self.head=None\n",
    "\n"
   ]
  },
  {
   "attachments": {},
   "cell_type": "markdown",
   "metadata": {},
   "source": [
    "<h5>Program to search an element in a doubly linked list.\n",
    "Input format:\n",
    "The first line conrains an integer."
   ]
  },
  {
   "attachments": {},
   "cell_type": "markdown",
   "metadata": {},
   "source": [
    "## DAY 9\n"
   ]
  },
  {
   "cell_type": "code",
   "execution_count": 2,
   "metadata": {},
   "outputs": [
    {
     "name": "stdout",
     "output_type": "stream",
     "text": [
      "Constants:  5 Vowels:  3\n"
     ]
    }
   ],
   "source": [
    "vowels=['a','e','i','o','u']\n",
    "n=input()\n",
    "v,c=0,0\n",
    "vv,cc='',''\n",
    "for i in n:\n",
    "    if i!=' ':\n",
    "        if i in vowels:\n",
    "            v+=1\n",
    "            vv+=i\n",
    "        else:\n",
    "            c+=1\n",
    "            cc+=i\n",
    "print(vv,v)\n",
    "print(cc,c)"
   ]
  },
  {
   "cell_type": "code",
   "execution_count": 20,
   "metadata": {},
   "outputs": [
    {
     "name": "stdout",
     "output_type": "stream",
     "text": [
      "((1, 2, 3, 4), (1, 2, 3, 4), (1, 2, 3, 4), (1, 2, 3, 4), (1, 2, 3, 4))\n"
     ]
    }
   ],
   "source": [
    "n=tuple(map(int, input(\"print tuple\").split(',')))\n",
    "\n",
    "x=int(input(\"print num\"))\n",
    "result=[]\n",
    "for i in range(0,x):\n",
    "    result.append(n)\n",
    "    \n",
    "result=tuple(result)\n",
    "print(str(result))"
   ]
  },
  {
   "cell_type": "code",
   "execution_count": 19,
   "metadata": {},
   "outputs": [
    {
     "name": "stdout",
     "output_type": "stream",
     "text": [
      "((1, 1), (2, 4), (3, 9))\n"
     ]
    }
   ],
   "source": [
    "x=int(input())\n",
    "n=int(input())\n",
    "j=n-x\n",
    "l=[]\n",
    "for i in range(j+1):\n",
    "    tup=x,x**2\n",
    "    x+=1\n",
    "    l.append(tup)\n",
    "res=tuple(l)\n",
    "print(res)"
   ]
  },
  {
   "cell_type": "code",
   "execution_count": 21,
   "metadata": {},
   "outputs": [
    {
     "name": "stdout",
     "output_type": "stream",
     "text": [
      "4\n"
     ]
    }
   ],
   "source": [
    "n=tuple(map(int,input().split()))\n",
    "\n",
    "x=max(n)\n",
    "print(x)"
   ]
  },
  {
   "cell_type": "code",
   "execution_count": 24,
   "metadata": {},
   "outputs": [
    {
     "ename": "TypeError",
     "evalue": "unsupported operand type(s) for -: 'tuple' and 'int'",
     "output_type": "error",
     "traceback": [
      "\u001b[1;31m---------------------------------------------------------------------------\u001b[0m",
      "\u001b[1;31mTypeError\u001b[0m                                 Traceback (most recent call last)",
      "Cell \u001b[1;32mIn[24], line 4\u001b[0m\n\u001b[0;32m      2\u001b[0m n\u001b[39m=\u001b[39m\u001b[39mtuple\u001b[39m(\u001b[39mmap\u001b[39m(\u001b[39mint\u001b[39m,\u001b[39minput\u001b[39m()\u001b[39m.\u001b[39msplit()))\n\u001b[0;32m      3\u001b[0m j\u001b[39m=\u001b[39m\u001b[39m0\u001b[39m\n\u001b[1;32m----> 4\u001b[0m \u001b[39mfor\u001b[39;00m i \u001b[39min\u001b[39;00m \u001b[39mrange\u001b[39m(\u001b[39mlen\u001b[39m(n\u001b[39m-\u001b[39;49m\u001b[39m1\u001b[39;49m)):\n\u001b[0;32m      5\u001b[0m     j\u001b[39m=\u001b[39mj\u001b[39m+\u001b[39m(n[i]\u001b[39m*\u001b[39mn[i\u001b[39m+\u001b[39m\u001b[39m1\u001b[39m])\n\u001b[0;32m      6\u001b[0m \u001b[39mprint\u001b[39m(n)\n",
      "\u001b[1;31mTypeError\u001b[0m: unsupported operand type(s) for -: 'tuple' and 'int'"
     ]
    }
   ],
   "source": [
    "x=int(input())\n",
    "n=tuple(map(int,input().split()))\n",
    "j=0\n",
    "for i in range(len(n-1)):\n",
    "    j=mul(n)\n",
    "print(n)\n",
    "print(j)"
   ]
  },
  {
   "cell_type": "code",
   "execution_count": 30,
   "metadata": {},
   "outputs": [
    {
     "name": "stdout",
     "output_type": "stream",
     "text": [
      "{'a': ['1', '2', '3', '4', '5']}\n"
     ]
    },
    {
     "ename": "TypeError",
     "evalue": "argument of type 'builtin_function_or_method' is not iterable",
     "output_type": "error",
     "traceback": [
      "\u001b[1;31m---------------------------------------------------------------------------\u001b[0m",
      "\u001b[1;31mTypeError\u001b[0m                                 Traceback (most recent call last)",
      "Cell \u001b[1;32mIn[30], line 16\u001b[0m\n\u001b[0;32m     14\u001b[0m \u001b[39mprint\u001b[39m(\u001b[39mdict\u001b[39m)\n\u001b[0;32m     15\u001b[0m m\u001b[39m=\u001b[39m\u001b[39mint\u001b[39m(\u001b[39minput\u001b[39m())\n\u001b[1;32m---> 16\u001b[0m \u001b[39mif\u001b[39;00m m \u001b[39min\u001b[39;49;00m \u001b[39mdict\u001b[39;49m\u001b[39m.\u001b[39;49mvalues:\n\u001b[0;32m     17\u001b[0m     \u001b[39mprint\u001b[39m (\u001b[39mdict\u001b[39m\u001b[39m.\u001b[39mkeys)\n",
      "\u001b[1;31mTypeError\u001b[0m: argument of type 'builtin_function_or_method' is not iterable"
     ]
    }
   ],
   "source": [
    "# x=int(input())\n",
    "\n",
    "\n",
    "\n",
    "\n",
    "\n",
    "dict={}\n",
    "\n",
    "for i in range(x):\n",
    "    n=list(input().split())\n",
    "    key=n[0]\n",
    "    value=n[1:]\n",
    "    dict[key]=value\n",
    "print(dict)\n",
    "m=int(input())\n",
    "if m in dict.values:\n",
    "    print (dict.keys)\n",
    "    "
   ]
  },
  {
   "cell_type": "code",
   "execution_count": 51,
   "metadata": {},
   "outputs": [
    {
     "ename": "AttributeError",
     "evalue": "'dict_values' object has no attribute 'index'",
     "output_type": "error",
     "traceback": [
      "\u001b[1;31m---------------------------------------------------------------------------\u001b[0m",
      "\u001b[1;31mAttributeError\u001b[0m                            Traceback (most recent call last)",
      "Cell \u001b[1;32mIn[51], line 2\u001b[0m\n\u001b[0;32m      1\u001b[0m \u001b[39mdict\u001b[39m\u001b[39m=\u001b[39m{\u001b[39m'\u001b[39m\u001b[39ma\u001b[39m\u001b[39m'\u001b[39m:[\u001b[39m1\u001b[39m,\u001b[39m2\u001b[39m,\u001b[39m3\u001b[39m,\u001b[39m4\u001b[39m,\u001b[39m5\u001b[39m] , \u001b[39m'\u001b[39m\u001b[39mb\u001b[39m\u001b[39m'\u001b[39m : [\u001b[39m1\u001b[39m,\u001b[39m2\u001b[39m,\u001b[39m3\u001b[39m,\u001b[39m4\u001b[39m,\u001b[39m5\u001b[39m]}\n\u001b[1;32m----> 2\u001b[0m \u001b[39mprint\u001b[39m(\u001b[39mdict\u001b[39;49m\u001b[39m.\u001b[39;49mvalues()\u001b[39m.\u001b[39;49mindex(\u001b[39m1\u001b[39m))\n",
      "\u001b[1;31mAttributeError\u001b[0m: 'dict_values' object has no attribute 'index'"
     ]
    }
   ],
   "source": [
    "dict={'a':[1,2,3,4,5] , 'b' : [1,2,3,4,5]}\n",
    "print(dict.values().index(1))"
   ]
  },
  {
   "cell_type": "code",
   "execution_count": 24,
   "metadata": {},
   "outputs": [
    {
     "name": "stdout",
     "output_type": "stream",
     "text": [
      "unbalanced\n"
     ]
    }
   ],
   "source": [
    "opened=['{','[','(']\n",
    "close=['}',']',')']\n",
    "x='((]])'\n",
    "lo=[]\n",
    "lc=[]\n",
    "\n",
    "if len(x)%2!=0:\n",
    "    print('unbalanced')\n",
    "else:\n",
    "    for i in x:\n",
    "        if i in opened:\n",
    "        \n",
    "            lo.append(opened.index(i))\n",
    "        else:\n",
    "        \n",
    "            lc.append(close.index(i))\n",
    "# print(lo,lc)\n",
    "d=len(lc)\n",
    "rev=lc[d::-1]\n",
    "if lo==rev:\n",
    "    print(\"balanced\")\n",
    "else:\n",
    "    print(\"unbalanced\")\n",
    "\n",
    "\n",
    "    \n"
   ]
  },
  {
   "cell_type": "code",
   "execution_count": null,
   "metadata": {},
   "outputs": [],
   "source": [
    "def parenthesis(strr):\n",
    "    stack=[]\n",
    "    listt1=['{','[','(']\n",
    "    listt2=['}',']',')']\n",
    "    for i in strr:\n",
    "        if i in listt1:\n",
    "            stack.append(i)\n",
    "        elif i in listt2:\n",
    "            if len(stack)==0:"
   ]
  },
  {
   "attachments": {},
   "cell_type": "markdown",
   "metadata": {},
   "source": [
    "#### Queue in data structures."
   ]
  },
  {
   "cell_type": "code",
   "execution_count": 12,
   "metadata": {},
   "outputs": [
    {
     "name": "stdout",
     "output_type": "stream",
     "text": [
      "e\n",
      "e\n",
      "x\n",
      "e\n",
      "x\n",
      "a\n",
      "e\n",
      "x\n",
      "a\n",
      "m\n",
      "e\n",
      "x\n",
      "a\n",
      "m\n",
      "p\n",
      "e\n",
      "x\n",
      "a\n",
      "m\n",
      "p\n",
      "l\n"
     ]
    }
   ],
   "source": [
    "x=input()\n",
    "\n",
    "for i in range(0,len(x)):\n",
    "    for j in range(i):\n",
    "        print(x[j])\n"
   ]
  },
  {
   "cell_type": "code",
   "execution_count": 202,
   "metadata": {},
   "outputs": [
    {
     "name": "stdout",
     "output_type": "stream",
     "text": [
      "[2, 3, 2, 3, -2, -3, 1, 3, -3, -1, -2]\n",
      "[2, 3, 2, 0, -2, 0, 0, 0, 0, 0, -2]\n",
      "2\n",
      "1\n",
      "3\n",
      "2\n",
      "2\n",
      "3\n",
      "-2\n",
      "4\n",
      "-2\n",
      "5\n",
      "not\n"
     ]
    }
   ],
   "source": [
    "opened=[0,'{','[','(']\n",
    "close=[0,'}',']',')']\n",
    "x='[([(]){()}]'\n",
    "\n",
    "# lo=[]\n",
    "# lc=[]\n",
    "s=[]\n",
    "d=len(x)\n",
    "for i in x:\n",
    "        if i in opened:        \n",
    "            # lo.append(opened.index(i))\n",
    "            s.append(opened.index(i))           \n",
    "        else:        \n",
    "            # lc.append(close.index(i))\n",
    "            s.append(close.index(i)*-1)\n",
    "            \n",
    "print(s)\n",
    "f=0\n",
    "for i in range(0,len(s)):\n",
    "    for j in range(1,len(s),2):\n",
    "    #  if s[i]<0 and s[i-1]>0 and s[i]*-1==s[i-1]:\n",
    "    #        s[i],s[i-1]= s[i]+s[i-1],s[i]+s[i-1]\n",
    "    #  if s[i]<0 and s[i-3]>0 and s[i]*-1==s[i-3]:\n",
    "    #         s[i],s[i-3]= s[i]+s[i-3],s[i]+s[i-3]\n",
    "    #  if s[i]<0 and s[i-5]>0 and s[i]*-1==s[i-5]:\n",
    "    #         s[i],s[i-5]= s[i]+s[i-5],s[i]+s[i-5]\n",
    "    #  if s[-1]*-1==s[0]:\n",
    "    #         s[-1],s[0]=0,0\n",
    "     if s[i]<0 and s[i-j]>0 and s[i]*-1==s[i-j]:\n",
    "             s[i],s[i-j]= s[i]+s[i-j],s[i]+s[i-j]\n",
    "print(s)\n",
    "\n",
    "for i in range(len(s)):\n",
    "    if s[i]!=0:\n",
    "        print(s[i])\n",
    "        f+=1 \n",
    "        i+=1\n",
    "        print(f)\n",
    "if f==0:\n",
    "      print('balanced')\n",
    "else:\n",
    "      print('not balanced')\n",
    "#      if s[i]==s[i+3] and  s[i+1]==s[i+2]:\n",
    "#         s[i],s[i+1],s[i+2],s[i+3]=0,0,0,0\n",
    "#         print(s)\n",
    "\n",
    "# if mul(s)==0:\n",
    "#       print('balanced')\n",
    "# else: \n",
    "#     print('unbalanced')\n",
    "\n",
    "\n",
    "      \n",
    "\n",
    "# for i in range(len(lo)-1):\n",
    "#      if lo[i+1]==lc[i]:\n",
    "#             lo[i+1],lc[i]=='',''\n",
    "# print(lo,lc)\n"
   ]
  },
  {
   "cell_type": "code",
   "execution_count": 6,
   "metadata": {},
   "outputs": [
    {
     "name": "stdout",
     "output_type": "stream",
     "text": [
      "balanced\n"
     ]
    }
   ],
   "source": [
    "opened=[0,'{','[','(']\n",
    "close=[0,'}',']',')']\n",
    "x='[(){()}]'\n",
    "s=[]\n",
    "for i in x:\n",
    "        if i in opened:        \n",
    "            s.append(opened.index(i))           \n",
    "        else:        \n",
    "            s.append(close.index(i)*-1)\n",
    "f=0\n",
    "for i in range(0,len(s)):\n",
    "    for j in range(1,len(s),2):\n",
    "     if s[i]<0 and s[i-j]>0 and s[i]*-1==s[i-j]:\n",
    "             s[i],s[i-j]= s[i]+s[i-j],s[i]+s[i-j]\n",
    "for i in range(len(s)):\n",
    "    if s[i]!=0:\n",
    "        f+=1 \n",
    "if f==0:\n",
    "      print('balanced')\n",
    "else:\n",
    "      print('not balanced')"
   ]
  },
  {
   "attachments": {},
   "cell_type": "markdown",
   "metadata": {},
   "source": [
    "## Day 10\n",
    "<h5>Graphs and Trees</h5>"
   ]
  },
  {
   "attachments": {},
   "cell_type": "markdown",
   "metadata": {},
   "source": [
    "\n",
    "<h4>Graph</h4>\n",
    "<h5><i>A data structure that consists of a set of nodes and a set of edges that relate the nodes to each other."
   ]
  },
  {
   "attachments": {},
   "cell_type": "markdown",
   "metadata": {},
   "source": [
    "#### WAP to solve n queens problem and print all per,utations of a string(backtracking algorithm we have discussed)"
   ]
  },
  {
   "attachments": {},
   "cell_type": "markdown",
   "metadata": {},
   "source": [
    "### After Break"
   ]
  },
  {
   "attachments": {},
   "cell_type": "markdown",
   "metadata": {},
   "source": [
    "#WAP to find the sum of harmonic series where series is starting from 4 and harmoic difference is 1/3\n",
    "till n terms where n is the input.\n",
    "ex- n =5\n",
    "output = 4 + 4/3 + 4/9 + 4/27 + 4/81 = value\n",
    "\n",
    "#WAP to find the absolute differrence between addition of even alphabets and odd alphabets from all combinations of string print combination and absolute difference.<br>\n",
    "values of a=1, b=2 and so on\n",
    "ex-asp<br>\n",
    "asp,as,p,a<br>\n",
    "\n",
    "constraints-string length greater than 5 and less than 20."
   ]
  },
  {
   "cell_type": "code",
   "execution_count": 53,
   "metadata": {},
   "outputs": [
    {
     "name": "stdout",
     "output_type": "stream",
     "text": [
      "4.666565056139816\n"
     ]
    }
   ],
   "source": [
    "#Problem 1\n",
    "s=4\n",
    "n=10\n",
    "j=9\n",
    "l=[]\n",
    "for i in range(0,n-2):\n",
    "    l.append((s/j))\n",
    "    j=(j*3)\n",
    "    \n",
    "    \n",
    "res=sum(l)+s\n",
    "print(res)\n",
    "\n",
    "\n"
   ]
  },
  {
   "cell_type": "code",
   "execution_count": 57,
   "metadata": {},
   "outputs": [
    {
     "name": "stdout",
     "output_type": "stream",
     "text": [
      "27\n",
      "[1, 2, 3]\n",
      "-2\n",
      "\n",
      " \n",
      "\n",
      "a  a\n",
      "\n",
      "as  a as\n",
      "\n",
      "asp  a as asp\n"
     ]
    }
   ],
   "source": [
    "x=input()\n",
    "lo=[]\n",
    "le=[]\n",
    "ind=[]\n",
    "for i in x:\n",
    "    if i!=' ':\n",
    "        if (ord('i')-96)%2==0:\n",
    "            le.append(ord('i')-96)\n",
    "        else:\n",
    "            lo.append(ord('i')-96)\n",
    "z=sum(lo)-sum(le)\n",
    "print(z)\n",
    "for i in x:\n",
    "    ind.append(x.index(i)+1)\n",
    "print(ind)\n",
    "indeven=[]\n",
    "indodd=[]\n",
    "comb=[]\n",
    "g=''\n",
    "for i in ind:\n",
    "    if i%2==0:\n",
    "        indeven.append(i)\n",
    "    else :\n",
    "        indodd.append(i)\n",
    "result=sum(indeven)-sum(indodd)\n",
    "print (result)\n",
    "for i in range(len(x)+1):\n",
    "    print('')\n",
    "    g+=' '\n",
    "    for j in range(i) :\n",
    "        print(x[j],end='')\n",
    "        g=g+(x[j])\n",
    "    print(g)\n",
    "        \n",
    "\n",
    "        "
   ]
  },
  {
   "cell_type": "code",
   "execution_count": 90,
   "metadata": {},
   "outputs": [
    {
     "name": "stdout",
     "output_type": "stream",
     "text": [
      "[100.0, 1.9607843137254903, 0.9900990099009901, 0.6622516556291391, 0.49751243781094523, 0.398406374501992, 0.33222591362126247, 0.2849002849002849, 0.24937655860349126, 0.22172949002217293] [108.0, 9.96078431372549, 8.990099009900991, 8.66225165562914, 8.497512437810945, 8.398406374501992, 8.332225913621263, 8.284900284900285, 8.24937655860349, 8.221729490022174]\n",
      "-85.5972860387158\n",
      "[22.402713961284206, 9.96078431372549, 8.990099009900991, 8.66225165562914, 8.497512437810945, 8.398406374501992, 8.332225913621263, 8.284900284900285, 8.24937655860349, 8.221729490022174]\n"
     ]
    }
   ],
   "source": [
    "x=int(input())\n",
    "y=int(input())\n",
    "j=0.2\n",
    "f=[]\n",
    "k=[]\n",
    "z=(x-20)/y\n",
    "for i in range(0,y):\n",
    "    f.append((20/j))\n",
    "    j=(j+y)\n",
    "    k.append(z+f[i])\n",
    "print(f,k)\n",
    "p=x- sum(k)\n",
    "print(p)\n",
    "if sum(k)!=x:\n",
    "    k[0]=k[0]+p\n",
    "print(k)"
   ]
  },
  {
   "attachments": {},
   "cell_type": "markdown",
   "metadata": {},
   "source": [
    "##### WAP to implement sorting of linked list\n",
    "<h5> Linked list reverse<br>\n",
    "WAP to find the palindromic strings in a given linked list</h5>"
   ]
  }
 ],
 "metadata": {
  "kernelspec": {
   "display_name": "Python 3",
   "language": "python",
   "name": "python3"
  },
  "language_info": {
   "codemirror_mode": {
    "name": "ipython",
    "version": 3
   },
   "file_extension": ".py",
   "mimetype": "text/x-python",
   "name": "python",
   "nbconvert_exporter": "python",
   "pygments_lexer": "ipython3",
   "version": "3.10.10"
  },
  "orig_nbformat": 4,
  "vscode": {
   "interpreter": {
    "hash": "09aebdb7fddfcf0c7bdfcfed4c0c64af0d198ad0c134216f43019469bd21ccc1"
   }
  }
 },
 "nbformat": 4,
 "nbformat_minor": 2
}
