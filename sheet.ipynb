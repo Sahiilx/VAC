{
 "cells": [
  {
   "attachments": {},
   "cell_type": "markdown",
   "metadata": {},
   "source": [
    "# Day one "
   ]
  },
  {
   "attachments": {},
   "cell_type": "markdown",
   "metadata": {},
   "source": [
    "##### WAP to check whether the number is even or odd using bitmanipulation"
   ]
  },
  {
   "cell_type": "code",
   "execution_count": 4,
   "metadata": {},
   "outputs": [
    {
     "name": "stdout",
     "output_type": "stream",
     "text": [
      "True given number is even\n"
     ]
    }
   ],
   "source": [
    "no = int(input(\"enter the number\"))\n",
    "c = no & 1 == 0\n",
    "print( c, \"given number is even\" )"
   ]
  },
  {
   "attachments": {},
   "cell_type": "markdown",
   "metadata": {},
   "source": [
    "##### WAP to take marks , rollno. , name and print all these as colon separated value"
   ]
  },
  {
   "cell_type": "code",
   "execution_count": 7,
   "metadata": {},
   "outputs": [
    {
     "name": "stdout",
     "output_type": "stream",
     "text": [
      "10:2021:100\n"
     ]
    }
   ],
   "source": [
    "name= input(\"Enter the Name\")\n",
    "roll_no= input(\"enter the roll number\")\n",
    "marks= input(\"Enter the marks\")\n",
    "\n",
    "display = name+\":\"+roll_no+\":\"+marks\n",
    "\n",
    "print(display)\n"
   ]
  },
  {
   "attachments": {},
   "cell_type": "markdown",
   "metadata": {},
   "source": [
    "##### WAP to display \"Hello\" if a number entered by user is a multiple of five, otherwise print \"Bye\"."
   ]
  },
  {
   "cell_type": "code",
   "execution_count": 8,
   "metadata": {},
   "outputs": [
    {
     "name": "stdout",
     "output_type": "stream",
     "text": [
      "hello\n"
     ]
    }
   ],
   "source": [
    "n = int(input(\"Enter the number\"))\n",
    "if (n%5==0):\n",
    "    print(\"hello\") \n",
    "else:\n",
    "    print(\"bye\")"
   ]
  },
  {
   "attachments": {},
   "cell_type": "markdown",
   "metadata": {},
   "source": [
    "##### WAP to print name branch age in 3 new lines using single print statement"
   ]
  },
  {
   "cell_type": "code",
   "execution_count": 9,
   "metadata": {},
   "outputs": [
    {
     "name": "stdout",
     "output_type": "stream",
     "text": [
      "sahil sharma \n",
      " cse \n",
      " 2021a1l011\n",
      "sahil sharma27cse"
     ]
    }
   ],
   "source": [
    "\n",
    "print(\"sahil sharma \\n cse \\n 2021a1l011\")\n",
    "name=\"sahil sharma\"\n",
    "branch = \"cse\"\n",
    "age = 27\n",
    "print(name,age,branch,sep=\" \" ,end=\"\")"
   ]
  },
  {
   "attachments": {},
   "cell_type": "markdown",
   "metadata": {},
   "source": [
    "##### WAP to take input of roll number and name. Print both in different lines using parameter end."
   ]
  },
  {
   "cell_type": "code",
   "execution_count": 10,
   "metadata": {},
   "outputs": [
    {
     "name": "stdout",
     "output_type": "stream",
     "text": [
      "sahil'\n",
      "'{roll}"
     ]
    }
   ],
   "source": [
    "name = input(\"enter name : \")\n",
    "roll = int(input(\"enter roll number: \"))\n",
    "\n",
    "print (name, end=\"'\\n'{roll}\")"
   ]
  },
  {
   "attachments": {},
   "cell_type": "markdown",
   "metadata": {},
   "source": [
    "##### WAP if number is even print 1 otherwise print 0"
   ]
  },
  {
   "cell_type": "code",
   "execution_count": 11,
   "metadata": {},
   "outputs": [
    {
     "name": "stdout",
     "output_type": "stream",
     "text": [
      "0\n"
     ]
    }
   ],
   "source": [
    "n = int(input(\"Enter number: \"))\n",
    "print(n%2)"
   ]
  },
  {
   "attachments": {},
   "cell_type": "markdown",
   "metadata": {},
   "source": [
    "\n",
    "## DAY 2"
   ]
  },
  {
   "attachments": {},
   "cell_type": "markdown",
   "metadata": {},
   "source": [
    "##### Program 1\n",
    "WAP to Print desired outcomes by desired age groups."
   ]
  },
  {
   "cell_type": "code",
   "execution_count": 12,
   "metadata": {},
   "outputs": [
    {
     "name": "stdout",
     "output_type": "stream",
     "text": [
      "congrats you are major and  eligible for marriage\n"
     ]
    }
   ],
   "source": [
    "age = int(input(\"enter the age\"))\n",
    "if(age<18):\n",
    "    print(\"Sorry, you are still minor\")\n",
    "elif(age>=18) and (age<=21):\n",
    "    print(\"congrats you are major but not eligible for marriage\")\n",
    "else:\n",
    "    print(\"congrats you are major and  eligible for marriage\")\n",
    "    "
   ]
  },
  {
   "attachments": {},
   "cell_type": "markdown",
   "metadata": {},
   "source": [
    "##### Program 2\n",
    "WAP to print Greeting messages acording to time of day."
   ]
  },
  {
   "cell_type": "code",
   "execution_count": 14,
   "metadata": {},
   "outputs": [
    {
     "name": "stdout",
     "output_type": "stream",
     "text": [
      "Good afternoon\n"
     ]
    }
   ],
   "source": [
    "current_time =int(input())\n",
    "\n",
    "if current_time < 1200:\n",
    "    print(\"Good morning\")\n",
    "elif current_time >= 1200 and current_time < 1800:\n",
    "    print(\"Good afternoon\")\n",
    "else:\n",
    "    print(\"Good night\")"
   ]
  },
  {
   "attachments": {},
   "cell_type": "markdown",
   "metadata": {},
   "source": [
    "##### Program 3 \n",
    "WAP to display electric charges according to units used."
   ]
  },
  {
   "cell_type": "code",
   "execution_count": 15,
   "metadata": {},
   "outputs": [
    {
     "name": "stdout",
     "output_type": "stream",
     "text": [
      "charges are  6440\n"
     ]
    }
   ],
   "source": [
    "base=40\n",
    "unit=int(input(\"Enter unit: \"))\n",
    "price=0\n",
    "p100=0\n",
    "if unit<=100:\n",
    "    print(\"Charges are \",base)\n",
    "elif  unit >=101 and unit <=200:\n",
    "    p100 =p100 +( 6 *(unit - 100)  + base)\n",
    "    print(\"charges are \" ,p100)\n",
    "elif unit>200:\n",
    "    price = (8*(unit - 200) )+p100 + base \n",
    "    print(\"charges are \",price)\n",
    "    "
   ]
  },
  {
   "attachments": {},
   "cell_type": "markdown",
   "metadata": {},
   "source": [
    "##### Program  4\n",
    "WAP to get hte sum of 3 numbers , if the numbers are same then take the product of those numbers."
   ]
  },
  {
   "cell_type": "code",
   "execution_count": 16,
   "metadata": {},
   "outputs": [
    {
     "name": "stdout",
     "output_type": "stream",
     "text": [
      "1000\n"
     ]
    }
   ],
   "source": [
    "n = list(map( int, input(\"enter the three number\").split()))\n",
    "if (n[0]==n[1]==n[2]):\n",
    "    print(n[0]**3)\n",
    "else:\n",
    "    print(n[0]+n[1]+n[2])"
   ]
  },
  {
   "attachments": {},
   "cell_type": "markdown",
   "metadata": {},
   "source": [
    "##### Program 5\n",
    "WAP to find if m is factor of n."
   ]
  },
  {
   "attachments": {},
   "cell_type": "markdown",
   "metadata": {},
   "source": [
    "##### Program 5"
   ]
  },
  {
   "cell_type": "code",
   "execution_count": 17,
   "metadata": {},
   "outputs": [
    {
     "name": "stdout",
     "output_type": "stream",
     "text": [
      "m is not factor of n\n"
     ]
    }
   ],
   "source": [
    "m = int(input(\"enter the value of m: \"))\n",
    "n= int(input(\"enter the value of n: \"))\n",
    "if (m%n==0):\n",
    "    print(\"m is factor of n\")\n",
    "else:\n",
    "    print(\"m is not factor of n\")"
   ]
  },
  {
   "attachments": {},
   "cell_type": "markdown",
   "metadata": {},
   "source": [
    "##### Program 6\n",
    "WAP to grade marks based on percentage."
   ]
  },
  {
   "cell_type": "code",
   "execution_count": 18,
   "metadata": {},
   "outputs": [
    {
     "name": "stdout",
     "output_type": "stream",
     "text": [
      "Your grade is:  A \n",
      " Congratulations\n"
     ]
    }
   ],
   "source": [
    "score = int(input(\"Enter the Score: \"))\n",
    "grade=['A','B','C','D']\n",
    "if (score>=90):\n",
    "    print(\"Your grade is: \", grade[0], '\\n Congratulations')\n",
    "elif(score<=89) and (score>=75):\n",
    "    print(\"Your grade is: \", grade[1],'\\n Congratulations')\n",
    "elif(score<=74) and (score>=60):\n",
    "    print(\"Your grade is: \", grade[2],'\\n work hard')\n",
    "elif(score<60):\n",
    "    print(\"Your grade is: \", grade[3], '\\n Try next time')\n",
    "else:\n",
    "    print(\"enter right value\")\n",
    " "
   ]
  },
  {
   "attachments": {},
   "cell_type": "markdown",
   "metadata": {},
   "source": [
    "##### Program 6\n",
    "WAP to shift integers to right"
   ]
  },
  {
   "cell_type": "code",
   "execution_count": null,
   "metadata": {},
   "outputs": [],
   "source": []
  },
  {
   "cell_type": "code",
   "execution_count": null,
   "metadata": {},
   "outputs": [],
   "source": [
    "a='1234567'\n",
    "a=int(str(a[:-1]))\n",
    "print(a)\n"
   ]
  },
  {
   "attachments": {},
   "cell_type": "markdown",
   "metadata": {},
   "source": [
    "### After Break\n",
    "##### Program 1\n",
    "WAP to take the input of 5 subject marks and calculate the percentage and also print the pass and fail"
   ]
  },
  {
   "cell_type": "code",
   "execution_count": null,
   "metadata": {},
   "outputs": [],
   "source": [
    "sub=list(map(int,input(\"Enter marks for subject 1 to 5 seperated by space.\").split()))\n",
    "per=(sub[0]+sub[1]+sub[2]+sub[3]+sub[4])/5\n",
    "\n",
    "for i in sub:\n",
    "    if i >33:\n",
    "        if per>40 and per<64:\n",
    "          print(\"passed with grade D\")\n",
    "        elif per>65 and per <74:\n",
    "            print(\"passed with grade C\")\n",
    "        elif per>75 and per <89:\n",
    "            print(\"passed with grade B\")    \n",
    "        elif per>90 :\n",
    "            print(\"passed with grade A\")    \n",
    "    else:\n",
    "        print(\"failed in\",i)"
   ]
  },
  {
   "attachments": {},
   "cell_type": "markdown",
   "metadata": {},
   "source": [
    "##### Program 2\n",
    "WAP to calculate discount given by merchant for the following input\n"
   ]
  },
  {
   "cell_type": "code",
   "execution_count": null,
   "metadata": {},
   "outputs": [],
   "source": [
    "purchase=int(input(\"Enter the Amount: \"))\n",
    "item=input(\"Enter the item to be purchased: \")\n",
    "if (item =='clothes'):\n",
    "    if (purchase<1000):\n",
    "        print(purchase,\"No discount\")\n",
    "    elif(purchase>1000) and (purchase<5000):\n",
    "        discount= (purchase*5)/100\n",
    "        print(\"Discount is\", discount)\n",
    "    else:\n",
    "        discount= (purchase*10)/100\n",
    "        print(\"Discount given is\", discount)\n",
    "if (item =='electronics'):\n",
    "    if (purchase<=10000):\n",
    "        print(purchase,\"No discount\")\n",
    "    elif(purchase>10000) and (purchase<20000):\n",
    "        discount= (purchase*20)/100\n",
    "        print(\"Discount is\", discount)\n",
    "    else:\n",
    "        discount= (purchase*50)/100\n",
    "        print(\"Discount given is\", discount)"
   ]
  },
  {
   "attachments": {},
   "cell_type": "markdown",
   "metadata": {},
   "source": [
    "##### Program 3\n",
    "WAP to print the digits of a number one by one."
   ]
  },
  {
   "cell_type": "code",
   "execution_count": null,
   "metadata": {},
   "outputs": [],
   "source": [
    "n= int(input(\"Enter a number\"))\n",
    "number=0\n",
    "while n:\n",
    "    rem=n%10\n",
    "    number=number*10+rem  \n",
    "    n//=10\n",
    "while number:\n",
    "    rem=n%10\n",
    "    number=number*10+rem  \n",
    "    n//=10 \n",
    "print (number)"
   ]
  },
  {
   "attachments": {},
   "cell_type": "markdown",
   "metadata": {},
   "source": [
    "##### Program 4\n",
    "WAP to check a number is palendrome or not."
   ]
  },
  {
   "cell_type": "code",
   "execution_count": null,
   "metadata": {},
   "outputs": [],
   "source": [
    "n= int(input(\"Enter a number\"))\n",
    "reverse=0\n",
    "number=0\n",
    "while n:\n",
    "    rem=n%10\n",
    "    number=number*10+rem  \n",
    "    n//=10\n",
    "    \n",
    "print (number)\n",
    "\n",
    "if n==number:\n",
    "    print(\"number is palindrome\")\n",
    "else :\n",
    "    print(\"number not palindrome\")"
   ]
  },
  {
   "attachments": {},
   "cell_type": "markdown",
   "metadata": {},
   "source": [
    "##### Program 5\n",
    "WAP to check if number is armstrong or not."
   ]
  },
  {
   "cell_type": "code",
   "execution_count": null,
   "metadata": {},
   "outputs": [],
   "source": [
    "n=int(input(\"Enter a number: \"))\n",
    "\n",
    "sum=0\n",
    "temp=n\n",
    "c=0\n",
    "while n:\n",
    "    n//=10\n",
    "    c+=1\n",
    "while temp:\n",
    "    rem=temp%10\n",
    "    sum+= rem**c\n",
    "    temp//=10\n",
    "if n == sum:\n",
    "    print(\"number is armstrong\")\n",
    "else:\n",
    "    print(\"not armstrong\")"
   ]
  },
  {
   "attachments": {},
   "cell_type": "markdown",
   "metadata": {},
   "source": [
    "##### Program 6\n",
    "WAP to print all prime number upto range n."
   ]
  },
  {
   "cell_type": "code",
   "execution_count": null,
   "metadata": {},
   "outputs": [],
   "source": [
    "n=int(input())\n",
    "\n",
    "for i in range(2,n,1):\n",
    "    c=0\n",
    "    if i>2:\n",
    "        for j in range (2,i//2):\n",
    "            if i%j==0:\n",
    "                c+=1\n",
    "                break\n",
    "    if c==0:\n",
    "        print(i)"
   ]
  },
  {
   "attachments": {},
   "cell_type": "markdown",
   "metadata": {},
   "source": [
    "## Day 3\n",
    "### Morning\n",
    "##### Program 1\n",
    "WAP to check if a number is negative or positive."
   ]
  },
  {
   "cell_type": "code",
   "execution_count": null,
   "metadata": {},
   "outputs": [],
   "source": [
    "n = int(input(\"Enter a number: \"))\n",
    "if(n<0):\n",
    "    print(\"Number is negative.\")\n",
    "else:\n",
    "    print(\"Number is positive.\")\n",
    "\n",
    "    "
   ]
  },
  {
   "attachments": {},
   "cell_type": "markdown",
   "metadata": {},
   "source": [
    "##### Program 2\n",
    "WAP to print odd number sequence upto range n."
   ]
  },
  {
   "cell_type": "code",
   "execution_count": null,
   "metadata": {},
   "outputs": [],
   "source": [
    "n = int(input(\"Enter a number: \"))\n",
    "\n",
    "for i in range(0,n+1):\n",
    "    if (i%2 != 0):\n",
    "        print(i)\n",
    "   "
   ]
  },
  {
   "attachments": {},
   "cell_type": "markdown",
   "metadata": {},
   "source": [
    "##### Program 3\n",
    "WAP to print even numbers sequence upto range n."
   ]
  },
  {
   "cell_type": "code",
   "execution_count": null,
   "metadata": {},
   "outputs": [],
   "source": [
    "n = int(input(\"Enter a number: \"))\n",
    "\n",
    "for i in range(0,n+1):\n",
    "    if (i%2 == 0):\n",
    "        print(i)"
   ]
  },
  {
   "attachments": {},
   "cell_type": "markdown",
   "metadata": {},
   "source": [
    "##### Program 4\n",
    "WAP to make a pyramid with numbers"
   ]
  },
  {
   "cell_type": "code",
   "execution_count": null,
   "metadata": {},
   "outputs": [],
   "source": [
    "n = int(input(\"Enter a number: \"))\n",
    "num=1\n",
    "for i in range(n,0,-1):\n",
    "    for j in range(0,i):\n",
    "        print(num,end=\"\")\n",
    "        \n",
    "    print(\"\\n\")\n",
    "    num+=1    "
   ]
  },
  {
   "attachments": {},
   "cell_type": "markdown",
   "metadata": {},
   "source": [
    "##### Program 5\n",
    "WAP to print Fibonacci series upto n.\n"
   ]
  },
  {
   "cell_type": "code",
   "execution_count": null,
   "metadata": {},
   "outputs": [
    {
     "name": "stdout",
     "output_type": "stream",
     "text": [
      "0\n",
      "1\n",
      "1\n",
      "2\n",
      "3\n",
      "5\n",
      "8\n"
     ]
    }
   ],
   "source": [
    "n = int(input(\"Enter a number: \"))\n",
    "n1,n2 =0,1\n",
    "\n",
    "while n1<n:\n",
    "    print(n1)\n",
    "    n1,n2 = n2, n1+n2"
   ]
  },
  {
   "attachments": {},
   "cell_type": "markdown",
   "metadata": {},
   "source": [
    "##### Program 6\n",
    "WAP to print factorial of n."
   ]
  },
  {
   "cell_type": "code",
   "execution_count": 24,
   "metadata": {},
   "outputs": [
    {
     "name": "stdout",
     "output_type": "stream",
     "text": [
      "6\n"
     ]
    }
   ],
   "source": [
    "n=int(input())\n",
    "m=1\n",
    "for i in range(n,0,-1):\n",
    "    m= m*i\n",
    "    n-=n\n",
    "print(m)\n",
    "    "
   ]
  },
  {
   "attachments": {},
   "cell_type": "markdown",
   "metadata": {},
   "source": [
    "##### Program 7\n",
    "WAP to factors of n."
   ]
  },
  {
   "cell_type": "code",
   "execution_count": 27,
   "metadata": {},
   "outputs": [
    {
     "name": "stdout",
     "output_type": "stream",
     "text": [
      "10\n",
      "5\n",
      "2\n",
      "1\n"
     ]
    }
   ],
   "source": [
    "n=int(input())\n",
    "for i in range(n,0,-1):\n",
    "    if n%i==0:\n",
    "        print(i)"
   ]
  },
  {
   "attachments": {},
   "cell_type": "markdown",
   "metadata": {},
   "source": [
    "##### Program 8\n",
    "WAP to print trasactions and balances."
   ]
  },
  {
   "cell_type": "code",
   "execution_count": 37,
   "metadata": {},
   "outputs": [
    {
     "name": "stdout",
     "output_type": "stream",
     "text": [
      "Enter Correct amount.\n",
      " It should be multiple of 5\n"
     ]
    }
   ],
   "source": [
    "bal=float(input(\"Enter balance: \"))\n",
    "x=float(input(\"Enter amount to withdraw: \"))\n",
    "if x%5==0 and bal>(x+1.5):\n",
    "    bal=(bal-x)-1.5\n",
    "    print(\"Transaction successful \\nAccount balance is: \",bal)\n",
    "elif x%5==0 and bal<(x+1.5):\n",
    "    print(\"Not enough balance.\\nCurrent Balance: \",bal)\n",
    "else:\n",
    "    print(\"Entered amount is incorrect.\\nAmount should be multiple of 5\")\n"
   ]
  },
  {
   "attachments": {},
   "cell_type": "markdown",
   "metadata": {},
   "source": [
    "##### Program 9\n",
    "WAP to  display right triangle with * using loops.\n"
   ]
  },
  {
   "cell_type": "code",
   "execution_count": 2,
   "metadata": {},
   "outputs": [
    {
     "name": "stdout",
     "output_type": "stream",
     "text": [
      "*\n",
      "**\n",
      "***\n",
      "****\n",
      "*****\n"
     ]
    }
   ],
   "source": [
    "for i in range(0,5):\n",
    "    for j in range(0,i+1):\n",
    "        print(\"*\",end=\"\")\n",
    "    print(\"\")"
   ]
  },
  {
   "attachments": {},
   "cell_type": "markdown",
   "metadata": {},
   "source": [
    "## After Break\n",
    "#### Note\n",
    "###### Strings in python-\n",
    "sequence of characters stored in single, double or triple quotes.\n",
    "strings are ordered, immutable, indexed connection of data.\n",
    "\n",
    "##### Operations performed on data\n",
    "\n",
    "-to retrieve the data :\n",
    "arr[i]  // i is the index of the data\n",
    "\n",
    "-to traverse :\n",
    "loops are used \n",
    "\n",
    "-to update :\n",
    "strings are immutable.\n",
    "\n",
    "##### Methods in Strings\n",
    "=> To split\n",
    ".split('Parameter')  -> it returns a list with parameter refered.\n",
    "\n",
    "x.strip() -> it removes spaces from x variable and and returns the list. .join is used to convert it to string. \n",
    "\n",
    ".find('parameter') -> it passes the index of the substring passed as parameter.\n",
    "\n",
    ".count('n') -> counts the occurances of the parameter provided. \n",
    "\n",
    "title() -> onlu converts first letter to uppercase\n",
    "\n",
    "upper()-> converts string to uppercase\n",
    "\n",
    "lower() -> it converts all letters to lowercase.\n",
    "\n",
    "swapcase -> inverts the characters case. if letters are uppercase then it converts them to lowercase and vice versa.\n",
    "\n",
    "##### Slicing in strings\n",
    "name[ start : end : step ]\n",
    "\n"
   ]
  },
  {
   "attachments": {},
   "cell_type": "markdown",
   "metadata": {},
   "source": [
    "##### Program 1\n",
    "WAP to print all the possible substrings from a string."
   ]
  },
  {
   "cell_type": "code",
   "execution_count": 58,
   "metadata": {},
   "outputs": [
    {
     "name": "stdout",
     "output_type": "stream",
     "text": [
      "M\n",
      "Mi\n",
      "i\n",
      "Mie\n",
      "ie\n",
      "e\n",
      "Miet\n",
      "iet\n",
      "et\n",
      "t\n"
     ]
    }
   ],
   "source": [
    "str =\"Miet\"\n",
    "\n",
    "for i in range(len(str)+1):\n",
    "    for j in range(i):\n",
    "        print(str[j:i],end=\"\\n\")\n",
    "        \n",
    "        \n",
    "        \n",
    "\n",
    "    \n",
    "    \n",
    "\n"
   ]
  },
  {
   "attachments": {},
   "cell_type": "markdown",
   "metadata": {},
   "source": [
    "##### Program 2\n",
    "WAP to print all the possible substrings from a string where combination of sum of vowels equals 6"
   ]
  },
  {
   "cell_type": "code",
   "execution_count": 84,
   "metadata": {},
   "outputs": [
    {
     "name": "stdout",
     "output_type": "stream",
     "text": [
      "this\n",
      "his\n",
      "this \n",
      "his \n",
      "this i\n",
      "his i\n"
     ]
    }
   ],
   "source": [
    "# str =input(\"Enter a string\")\n",
    "# list=['a','e','i','o','u']\n",
    "# c=0 \n",
    "\n",
    "# for i in range(len(str)+1):\n",
    "#     for j in range(i):\n",
    "#         for i in range (len(list)):\n",
    "#             if list[i] in str:\n",
    "#                 c+=1\n",
    "#             if c>=6:\n",
    "#                 print(str[j:i],end=\"\\n\")\n",
    "\n",
    "strr=input(\"Enter a string: \")\n",
    "vowels='aeiou'\n",
    "alphabets='abcdefghijklmnopqrstuvwxyz'\n",
    "for i in range(len(strr)+1):\n",
    "    for j in range(i+1):\n",
    "        value=0\n",
    "\n",
    "        for a in (strr[j:i]):\n",
    "            if a in vowels:\n",
    "                value=value+alphabets.index(a)+1\n",
    "        if value==6:\n",
    "            print(str[j:i])\n",
    "        "
   ]
  },
  {
   "attachments": {},
   "cell_type": "markdown",
   "metadata": {},
   "source": [
    "##### Program 3\n",
    "WAP to merge two string in index order"
   ]
  },
  {
   "cell_type": "code",
   "execution_count": 88,
   "metadata": {},
   "outputs": [
    {
     "name": "stdout",
     "output_type": "stream",
     "text": [
      "mriaemtu\n"
     ]
    }
   ],
   "source": [
    "a=input()\n",
    "b=input()\n",
    "c=''\n",
    "for i in range (len(a)):\n",
    "    c=c+a[i]+b[i]\n",
    "print(c)\n",
    "\n",
    "\n"
   ]
  },
  {
   "attachments": {},
   "cell_type": "markdown",
   "metadata": {},
   "source": [
    "##### Program 4\n"
   ]
  },
  {
   "cell_type": "code",
   "execution_count": 90,
   "metadata": {},
   "outputs": [],
   "source": [
    "# x=input()\n",
    "# num=0\n",
    "# c=''\n",
    "# al='abcdefghijklmnopqrstuvwxyz'\n",
    "# for i in range (0,len(x),2):\n",
    "#     c=c+i\n"
   ]
  },
  {
   "attachments": {},
   "cell_type": "markdown",
   "metadata": {},
   "source": [
    "#### Program 5\n",
    "WAP to create a dynamic list and add the individual digits sum of the elements of list."
   ]
  },
  {
   "cell_type": "code",
   "execution_count": null,
   "metadata": {},
   "outputs": [],
   "source": [
    "list1=[]\n",
    "total=0\n",
    "n=int(input())\n",
    "for i in range(n):\n",
    "    list1.append(input())\n",
    "print(list1)\n",
    "for i in list1:\n",
    "    for j in str(i):\n",
    "        total+=int(j)\n",
    "print(total)\n",
    "    "
   ]
  },
  {
   "cell_type": "code",
   "execution_count": null,
   "metadata": {},
   "outputs": [],
   "source": []
  }
 ],
 "metadata": {
  "kernelspec": {
   "display_name": "Python 3",
   "language": "python",
   "name": "python3"
  },
  "language_info": {
   "codemirror_mode": {
    "name": "ipython",
    "version": 3
   },
   "file_extension": ".py",
   "mimetype": "text/x-python",
   "name": "python",
   "nbconvert_exporter": "python",
   "pygments_lexer": "ipython3",
   "version": "3.10.10"
  },
  "orig_nbformat": 4,
  "vscode": {
   "interpreter": {
    "hash": "09aebdb7fddfcf0c7bdfcfed4c0c64af0d198ad0c134216f43019469bd21ccc1"
   }
  }
 },
 "nbformat": 4,
 "nbformat_minor": 2
}
